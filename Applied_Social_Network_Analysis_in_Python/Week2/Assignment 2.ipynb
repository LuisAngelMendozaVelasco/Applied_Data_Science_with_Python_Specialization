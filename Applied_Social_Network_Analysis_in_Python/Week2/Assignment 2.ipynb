{
 "cells": [
  {
   "cell_type": "markdown",
   "metadata": {},
   "source": [
    "---\n",
    "\n",
    "_You are currently looking at **version 1.2** of this notebook. To download notebooks and datafiles, as well as get help on Jupyter notebooks in the Coursera platform, visit the [Jupyter Notebook FAQ](https://www.coursera.org/learn/python-social-network-analysis/resources/yPcBs) course resource._\n",
    "\n",
    "---"
   ]
  },
  {
   "cell_type": "markdown",
   "metadata": {},
   "source": [
    "# Assignment 2 - Network Connectivity\n",
    "\n",
    "In this assignment you will go through the process of importing and analyzing an internal email communication network between employees of a mid-sized manufacturing company. \n",
    "Each node represents an employee and each directed edge between two nodes represents an individual email. The left node represents the sender and the right node represents the recipient."
   ]
  },
  {
   "cell_type": "code",
   "execution_count": 1,
   "metadata": {
    "collapsed": true
   },
   "outputs": [],
   "source": [
    "import networkx as nx\n",
    "\n",
    "# This line must be commented out when submitting to the autograder\n",
    "#!head email_network.txt"
   ]
  },
  {
   "cell_type": "markdown",
   "metadata": {},
   "source": [
    "### Question 1\n",
    "\n",
    "Using networkx, load up the directed multigraph from `email_network.txt`. Make sure the node names are strings.\n",
    "\n",
    "*This function should return a directed multigraph networkx graph.*"
   ]
  },
  {
   "cell_type": "code",
   "execution_count": 13,
   "metadata": {
    "collapsed": true
   },
   "outputs": [
    {
     "name": "stdout",
     "output_type": "stream",
     "text": [
      "<class 'str'>\n"
     ]
    },
    {
     "data": {
      "text/plain": [
       "<networkx.classes.multidigraph.MultiDiGraph at 0x2b3deb58b80>"
      ]
     },
     "execution_count": 13,
     "metadata": {},
     "output_type": "execute_result"
    }
   ],
   "source": [
    "def answer_one():\n",
    "    # Your Code Here\n",
    "    G = nx.read_edgelist('data/email_network.txt', delimiter='\\t', data=[('time', int)], create_using=nx.MultiDiGraph())\n",
    "    \n",
    "    return G # Your Answer Here\n",
    "\n",
    "print(type(list(answer_one().nodes())[0]))\n",
    "answer_one()   "
   ]
  },
  {
   "cell_type": "markdown",
   "metadata": {},
   "source": [
    "### Question 2\n",
    "\n",
    "How many employees and emails are represented in the graph from Question 1?\n",
    "\n",
    "*This function should return a tuple (#employees, #emails).*"
   ]
  },
  {
   "cell_type": "code",
   "execution_count": 15,
   "metadata": {
    "collapsed": true
   },
   "outputs": [
    {
     "data": {
      "text/plain": [
       "(167, 82927)"
      ]
     },
     "execution_count": 15,
     "metadata": {},
     "output_type": "execute_result"
    }
   ],
   "source": [
    "def answer_two():   \n",
    "    # Your Code Here\n",
    "    G = answer_one()\n",
    "    \n",
    "    return (len(G.nodes()), len(G.edges())) # Your Answer Here\n",
    "\n",
    "answer_two()"
   ]
  },
  {
   "cell_type": "markdown",
   "metadata": {},
   "source": [
    "### Question 3\n",
    "\n",
    "* Part 1. Assume that information in this company can only be exchanged through email.\n",
    "\n",
    "    When an employee sends an email to another employee, a communication channel has been created, allowing the sender to provide information to the receiver, but not vice versa. \n",
    "\n",
    "    Based on the emails sent in the data, is it possible for information to go from every employee to every other employee?\n",
    "\n",
    "\n",
    "* Part 2. Now assume that a communication channel established by an email allows information to be exchanged both ways. \n",
    "\n",
    "    Based on the emails sent in the data, is it possible for information to go from every employee to every other employee?\n",
    "\n",
    "\n",
    "*This function should return a tuple of bools (part1, part2).*"
   ]
  },
  {
   "cell_type": "code",
   "execution_count": 16,
   "metadata": {
    "collapsed": true
   },
   "outputs": [
    {
     "data": {
      "text/plain": [
       "(False, True)"
      ]
     },
     "execution_count": 16,
     "metadata": {},
     "output_type": "execute_result"
    }
   ],
   "source": [
    "def answer_three():\n",
    "    # Your Code Here\n",
    "    G = answer_one()\n",
    "    part1 = nx.is_strongly_connected(G)\n",
    "    part2 = nx.is_weakly_connected(G)\n",
    "    \n",
    "    return (part1, part2) # Your Answer Here\n",
    "\n",
    "answer_three()"
   ]
  },
  {
   "cell_type": "markdown",
   "metadata": {},
   "source": [
    "### Question 4\n",
    "\n",
    "How many nodes are in the largest (in terms of nodes) weakly connected component?\n",
    "\n",
    "*This function should return an int.*"
   ]
  },
  {
   "cell_type": "code",
   "execution_count": 18,
   "metadata": {
    "collapsed": true,
    "scrolled": true
   },
   "outputs": [
    {
     "data": {
      "text/plain": [
       "167"
      ]
     },
     "execution_count": 18,
     "metadata": {},
     "output_type": "execute_result"
    }
   ],
   "source": [
    "def answer_four():    \n",
    "    # Your Code Here\n",
    "    G = answer_one()\n",
    "    wcs = (G.subgraph(c) for c in nx.weakly_connected_components(G))\n",
    "    \n",
    "    return len(max(wcs, key=len)) # Your Answer Here\n",
    "\n",
    "answer_four()"
   ]
  },
  {
   "cell_type": "markdown",
   "metadata": {},
   "source": [
    "### Question 5\n",
    "\n",
    "How many nodes are in the largest (in terms of nodes) strongly connected component?\n",
    "\n",
    "*This function should return an int*"
   ]
  },
  {
   "cell_type": "code",
   "execution_count": 20,
   "metadata": {
    "collapsed": true
   },
   "outputs": [
    {
     "data": {
      "text/plain": [
       "126"
      ]
     },
     "execution_count": 20,
     "metadata": {},
     "output_type": "execute_result"
    }
   ],
   "source": [
    "def answer_five(): \n",
    "    # Your Code Here\n",
    "    G = answer_one()\n",
    "    scs = (G.subgraph(c) for c in nx.strongly_connected_components(G))\n",
    "    \n",
    "    return len(max(scs, key=len)) # Your Answer Here\n",
    "\n",
    "answer_five()"
   ]
  },
  {
   "cell_type": "markdown",
   "metadata": {},
   "source": [
    "### Question 6\n",
    "\n",
    "Using the NetworkX function strongly_connected_component_subgraphs, find the subgraph of nodes in a largest strongly connected component. \n",
    "Call this graph G_sc.\n",
    "\n",
    "*This function should return a networkx MultiDiGraph named G_sc.*"
   ]
  },
  {
   "cell_type": "code",
   "execution_count": 22,
   "metadata": {
    "collapsed": true
   },
   "outputs": [
    {
     "data": {
      "text/plain": [
       "<networkx.classes.multidigraph.MultiDiGraph at 0x2b3e41de040>"
      ]
     },
     "execution_count": 22,
     "metadata": {},
     "output_type": "execute_result"
    }
   ],
   "source": [
    "def answer_six():   \n",
    "    # Your Code Here\n",
    "    G = answer_one()\n",
    "    G_sc = max((G.subgraph(c) for c in nx.strongly_connected_components(G)), key=len)\n",
    "    \n",
    "    return G_sc # Your Answer Here\n",
    "\n",
    "answer_six()"
   ]
  },
  {
   "cell_type": "markdown",
   "metadata": {},
   "source": [
    "### Question 7\n",
    "\n",
    "What is the average distance between nodes in G_sc?\n",
    "\n",
    "*This function should return a float.*"
   ]
  },
  {
   "cell_type": "code",
   "execution_count": 23,
   "metadata": {
    "collapsed": true
   },
   "outputs": [
    {
     "data": {
      "text/plain": [
       "1.6461587301587302"
      ]
     },
     "execution_count": 23,
     "metadata": {},
     "output_type": "execute_result"
    }
   ],
   "source": [
    "def answer_seven():     \n",
    "    # Your Code Here\n",
    "    G_sc = answer_six()\n",
    "    \n",
    "    return nx.average_shortest_path_length(G_sc) # Your Answer Here\n",
    "\n",
    "answer_seven()"
   ]
  },
  {
   "cell_type": "markdown",
   "metadata": {},
   "source": [
    "### Question 8\n",
    "\n",
    "What is the largest possible distance between two employees in G_sc?\n",
    "\n",
    "*This function should return an int.*"
   ]
  },
  {
   "cell_type": "code",
   "execution_count": 24,
   "metadata": {
    "collapsed": true
   },
   "outputs": [
    {
     "data": {
      "text/plain": [
       "3"
      ]
     },
     "execution_count": 24,
     "metadata": {},
     "output_type": "execute_result"
    }
   ],
   "source": [
    "def answer_eight():   \n",
    "    # Your Code Here\n",
    "    G_sc = answer_six()\n",
    "    \n",
    "    return nx.diameter(G_sc) # Your Answer Here\n",
    "\n",
    "answer_eight()"
   ]
  },
  {
   "cell_type": "markdown",
   "metadata": {},
   "source": [
    "### Question 9\n",
    "\n",
    "What is the set of nodes in G_sc with eccentricity equal to the diameter?\n",
    "\n",
    "*This function should return a set of the node(s).*"
   ]
  },
  {
   "cell_type": "code",
   "execution_count": 27,
   "metadata": {
    "collapsed": true
   },
   "outputs": [
    {
     "data": {
      "text/plain": [
       "{'129', '134', '97'}"
      ]
     },
     "execution_count": 27,
     "metadata": {},
     "output_type": "execute_result"
    }
   ],
   "source": [
    "def answer_nine():\n",
    "    # Your Code Here\n",
    "    G_sc = answer_six()\n",
    "    \n",
    "    return set(nx.periphery(G_sc)) # Your Answer Here\n",
    "\n",
    "answer_nine()"
   ]
  },
  {
   "cell_type": "markdown",
   "metadata": {},
   "source": [
    "### Question 10\n",
    "\n",
    "What is the set of node(s) in G_sc with eccentricity equal to the radius?\n",
    "\n",
    "*This function should return a set of the node(s).*"
   ]
  },
  {
   "cell_type": "code",
   "execution_count": 28,
   "metadata": {
    "collapsed": true
   },
   "outputs": [
    {
     "data": {
      "text/plain": [
       "{'38'}"
      ]
     },
     "execution_count": 28,
     "metadata": {},
     "output_type": "execute_result"
    }
   ],
   "source": [
    "def answer_ten():       \n",
    "    # Your Code Here\n",
    "    G_sc = answer_six()\n",
    "    \n",
    "    return set(nx.center(G_sc)) # Your Answer Here\n",
    "\n",
    "answer_ten()"
   ]
  },
  {
   "cell_type": "markdown",
   "metadata": {},
   "source": [
    "### Question 11\n",
    "\n",
    "Which node in G_sc is connected to the most other nodes by a shortest path of length equal to the diameter of G_sc?\n",
    "\n",
    "How many nodes are connected to this node?\n",
    "\n",
    "\n",
    "*This function should return a tuple (name of node, number of satisfied connected nodes).*"
   ]
  },
  {
   "cell_type": "code",
   "execution_count": 29,
   "metadata": {
    "collapsed": true
   },
   "outputs": [
    {
     "data": {
      "text/plain": [
       "('97', 63)"
      ]
     },
     "execution_count": 29,
     "metadata": {},
     "output_type": "execute_result"
    }
   ],
   "source": [
    "def answer_eleven():    \n",
    "    # Your Code Here\n",
    "    G_sc = answer_six()\n",
    "    d = answer_eight()\n",
    "    peripheries = answer_nine()\n",
    "    max_count = -1\n",
    "    max_node = None\n",
    "    for node in peripheries:\n",
    "        count = 0\n",
    "        sp = nx.shortest_path_length(G_sc, node)\n",
    "        for key, value in sp.items():\n",
    "            if value == d:\n",
    "                count += 1\n",
    "        if count > max_count:\n",
    "            max_count = count\n",
    "            max_node = node\n",
    "    \n",
    "    return (max_node, max_count) # Your Answer Here\n",
    "\n",
    "answer_eleven()"
   ]
  },
  {
   "cell_type": "markdown",
   "metadata": {},
   "source": [
    "### Question 12\n",
    "\n",
    "Suppose you want to prevent communication from flowing to the node that you found in the previous question from any node in the center of G_sc, what is the smallest number of nodes you would need to remove from the graph (you're not allowed to remove the node from the previous question or the center nodes)? \n",
    "\n",
    "*This function should return an integer.*"
   ]
  },
  {
   "cell_type": "code",
   "execution_count": 33,
   "metadata": {
    "collapsed": true
   },
   "outputs": [
    {
     "data": {
      "text/plain": [
       "0"
      ]
     },
     "execution_count": 33,
     "metadata": {},
     "output_type": "execute_result"
    }
   ],
   "source": [
    "def answer_twelve():   \n",
    "    # Your Code Here\n",
    "    G_sc = answer_six()\n",
    "    center = list(answer_ten())[0]\n",
    "    node = answer_eleven()[0]\n",
    "    \n",
    "    return len(nx.minimum_node_cut(G_sc, center, node)) # Your Answer Here\n",
    "\n",
    "answer_twelve()"
   ]
  },
  {
   "cell_type": "markdown",
   "metadata": {},
   "source": [
    "### Question 13\n",
    "\n",
    "Construct an undirected graph G_un using G_sc (you can ignore the attributes).\n",
    "\n",
    "*This function should return a networkx Graph.*"
   ]
  },
  {
   "cell_type": "code",
   "execution_count": 34,
   "metadata": {
    "collapsed": true
   },
   "outputs": [
    {
     "data": {
      "text/plain": [
       "<networkx.classes.graph.Graph at 0x2b3de945a30>"
      ]
     },
     "execution_count": 34,
     "metadata": {},
     "output_type": "execute_result"
    }
   ],
   "source": [
    "def answer_thirteen():   \n",
    "    # Your Code Here\n",
    "    G_sc = answer_six()\n",
    "    G_un = nx.Graph(G_sc.to_undirected())\n",
    "    \n",
    "    return G_un # Your Answer Here\n",
    "\n",
    "answer_thirteen()"
   ]
  },
  {
   "cell_type": "markdown",
   "metadata": {},
   "source": [
    "### Question 14\n",
    "\n",
    "What is the transitivity and average clustering coefficient of graph G_un?\n",
    "\n",
    "*This function should return a tuple (transitivity, avg clustering).*"
   ]
  },
  {
   "cell_type": "code",
   "execution_count": 35,
   "metadata": {
    "collapsed": true
   },
   "outputs": [
    {
     "data": {
      "text/plain": [
       "(0.570111160700385, 0.6975272437231418)"
      ]
     },
     "execution_count": 35,
     "metadata": {},
     "output_type": "execute_result"
    }
   ],
   "source": [
    "def answer_fourteen():\n",
    "    # Your Code Here\n",
    "    G_un = answer_thirteen()\n",
    "    \n",
    "    return (nx.transitivity(G_un), nx.average_clustering(G_un)) # Your Answer Here\n",
    "\n",
    "answer_fourteen()"
   ]
  }
 ],
 "metadata": {
  "coursera": {
   "course_slug": "python-social-network-analysis",
   "graded_item_id": "jMCHR",
   "launcher_item_id": "7RsKp",
   "part_id": "E9gn5"
  },
  "kernelspec": {
   "display_name": "Python 3.9.12 ('base')",
   "language": "python",
   "name": "python3"
  },
  "language_info": {
   "codemirror_mode": {
    "name": "ipython",
    "version": 3
   },
   "file_extension": ".py",
   "mimetype": "text/x-python",
   "name": "python",
   "nbconvert_exporter": "python",
   "pygments_lexer": "ipython3",
   "version": "3.9.12"
  },
  "vscode": {
   "interpreter": {
    "hash": "3cfd106f785ae1e288da74ae733f9b47f8a2699db986927140be0bc196406f4c"
   }
  }
 },
 "nbformat": 4,
 "nbformat_minor": 2
}
