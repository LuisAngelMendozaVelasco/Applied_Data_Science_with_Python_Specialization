{
 "cells": [
  {
   "cell_type": "markdown",
   "metadata": {},
   "source": [
    "<a target=\"_blank\" href=\"https://colab.research.google.com/github/LuisAngelMendozaVelasco/Applied_Data_Science_with_Python_Specialization/blob/main/Introduction_to_Data_Science_in_Python/Week1/Labs/Numpy_ed.ipynb\"><img src=\"https://www.tensorflow.org/images/colab_logo_32px.png\" />Run in Google Colab</a>"
   ]
  },
  {
   "cell_type": "code",
   "execution_count": 1,
   "metadata": {},
   "outputs": [],
   "source": [
    "%%bash\n",
    "# If running in Google Colab\n",
    "\n",
    "# mkdir datasets\n",
    "# wget https://raw.githubusercontent.com/LuisAngelMendozaVelasco/Applied_Data_Science_with_Python_Specialization/main/Introduction_to_Data_Science_in_Python/Week1/Labs/datasets/chris.tiff -P ./datasets\n",
    "# wget https://raw.githubusercontent.com/LuisAngelMendozaVelasco/Applied_Data_Science_with_Python_Specialization/main/Introduction_to_Data_Science_in_Python/Week1/Labs/datasets/winequality-red.csv -P ./datasets\n",
    "# wget https://raw.githubusercontent.com/LuisAngelMendozaVelasco/Applied_Data_Science_with_Python_Specialization/main/Introduction_to_Data_Science_in_Python/Week1/Labs/datasets/Admission_Predict.csv -P ./datasets"
   ]
  },
  {
   "cell_type": "markdown",
   "metadata": {},
   "source": [
    "Numpy is the fundamental package for numeric computing with Python. It provides powerful ways to create, store, and/or manipulate data, which makes it able to seamlessly and speedily integrate with a wide variety of databases. This is also the foundation that Pandas is built on, which is a high-performance data-centric package that we will learn later in the course.\n",
    "\n",
    "In this lecture, we will talk about creating array with certain data types, manipulating array, selecting elements from arrays, and loading dataset into array. Such functions are useful for manipulating data and understanding the functionalities of other common Python data packages."
   ]
  },
  {
   "cell_type": "code",
   "execution_count": 2,
   "metadata": {},
   "outputs": [],
   "source": [
    "# You'll recall that we import a library using the `import` keyword as numpy's common abbreviation is np\n",
    "import numpy as np\n",
    "import math"
   ]
  },
  {
   "cell_type": "markdown",
   "metadata": {
    "collapsed": true
   },
   "source": [
    "# Array Creation"
   ]
  },
  {
   "cell_type": "code",
   "execution_count": 3,
   "metadata": {},
   "outputs": [
    {
     "name": "stdout",
     "output_type": "stream",
     "text": [
      "[1 2 3]\n",
      "1\n"
     ]
    }
   ],
   "source": [
    "# Arrays are displayed as a list or list of lists and can be created through list as well. When creating an\n",
    "# array, we pass in a list as an argument in numpy array\n",
    "a = np.array([1, 2, 3])\n",
    "print(a)\n",
    "\n",
    "# We can print the number of dimensions of a list using the ndim attribute\n",
    "print(a.ndim)"
   ]
  },
  {
   "cell_type": "code",
   "execution_count": 4,
   "metadata": {},
   "outputs": [
    {
     "data": {
      "text/plain": [
       "array([[1, 2, 3],\n",
       "       [4, 5, 6]])"
      ]
     },
     "execution_count": 4,
     "metadata": {},
     "output_type": "execute_result"
    }
   ],
   "source": [
    "# If we pass in a list of lists in numpy array, we create a multi-dimensional array, for instance, a matrix\n",
    "b = np.array([[1, 2, 3], [4, 5, 6]])\n",
    "b"
   ]
  },
  {
   "cell_type": "code",
   "execution_count": 5,
   "metadata": {},
   "outputs": [
    {
     "data": {
      "text/plain": [
       "(2, 3)"
      ]
     },
     "execution_count": 5,
     "metadata": {},
     "output_type": "execute_result"
    }
   ],
   "source": [
    "# We can print out the length of each dimension by calling the shape attribute, which returns a tuple\n",
    "b.shape"
   ]
  },
  {
   "cell_type": "code",
   "execution_count": 6,
   "metadata": {},
   "outputs": [
    {
     "data": {
      "text/plain": [
       "dtype('int64')"
      ]
     },
     "execution_count": 6,
     "metadata": {},
     "output_type": "execute_result"
    }
   ],
   "source": [
    "# We can also check the type of items in the array\n",
    "a.dtype"
   ]
  },
  {
   "cell_type": "code",
   "execution_count": 7,
   "metadata": {},
   "outputs": [
    {
     "data": {
      "text/plain": [
       "'float64'"
      ]
     },
     "execution_count": 7,
     "metadata": {},
     "output_type": "execute_result"
    }
   ],
   "source": [
    "# Besides integers, floats are also accepted in numpy arrays\n",
    "c = np.array([2.2, 5, 1.1])\n",
    "c.dtype.name"
   ]
  },
  {
   "cell_type": "code",
   "execution_count": 8,
   "metadata": {},
   "outputs": [
    {
     "data": {
      "text/plain": [
       "array([2.2, 5. , 1.1])"
      ]
     },
     "execution_count": 8,
     "metadata": {},
     "output_type": "execute_result"
    }
   ],
   "source": [
    "# Let's look at the data in our array\n",
    "c"
   ]
  },
  {
   "cell_type": "code",
   "execution_count": 9,
   "metadata": {},
   "outputs": [],
   "source": [
    "# Note that numpy automatically converts integers, like 5, up to floats, since there is no loss of prescision.\n",
    "# Numpy will try and give you the best data type format possible to keep your data types homogeneous, which\n",
    "# means all the same, in the array"
   ]
  },
  {
   "cell_type": "code",
   "execution_count": 10,
   "metadata": {},
   "outputs": [
    {
     "name": "stdout",
     "output_type": "stream",
     "text": [
      "[[0. 0. 0.]\n",
      " [0. 0. 0.]]\n",
      "\n",
      " [[1. 1. 1.]\n",
      " [1. 1. 1.]]\n"
     ]
    }
   ],
   "source": [
    "# Sometimes we know the shape of an array that we want to create, but not what we want to be in it. numpy\n",
    "# offers several functions to create arrays with initial placeholders, such as zero's or one's.\n",
    "# Lets create two arrays, both the same shape but with different filler values\n",
    "d = np.zeros((2, 3))\n",
    "print(d)\n",
    "\n",
    "e = np.ones((2, 3))\n",
    "print(\"\\n\", e)"
   ]
  },
  {
   "cell_type": "code",
   "execution_count": 11,
   "metadata": {},
   "outputs": [
    {
     "data": {
      "text/plain": [
       "array([[0.10635919, 0.36200103, 0.62877379],\n",
       "       [0.8121871 , 0.81046848, 0.59247759]])"
      ]
     },
     "execution_count": 11,
     "metadata": {},
     "output_type": "execute_result"
    }
   ],
   "source": [
    "# We can also generate an array with random numbers\n",
    "np.random.rand(2, 3)"
   ]
  },
  {
   "cell_type": "code",
   "execution_count": 12,
   "metadata": {},
   "outputs": [],
   "source": [
    "# You'll see zeros, ones, and rand used quite often to create example arrays, especially in stack overflow\n",
    "# posts and other forums."
   ]
  },
  {
   "cell_type": "code",
   "execution_count": 13,
   "metadata": {},
   "outputs": [
    {
     "data": {
      "text/plain": [
       "array([10, 12, 14, 16, 18, 20, 22, 24, 26, 28, 30, 32, 34, 36, 38, 40, 42,\n",
       "       44, 46, 48])"
      ]
     },
     "execution_count": 13,
     "metadata": {},
     "output_type": "execute_result"
    }
   ],
   "source": [
    "# We can also create a sequence of numbers in an array with the arrange() function. The fist argument is the\n",
    "# starting bound and the second argument is the ending bound, and the third argument is the difference between\n",
    "# each consecutive numbers\n",
    "\n",
    "# Let's create an array of every even number from ten (inclusive) to fifty (exclusive)\n",
    "f = np.arange(10, 50, 2)\n",
    "f"
   ]
  },
  {
   "cell_type": "code",
   "execution_count": 14,
   "metadata": {},
   "outputs": [
    {
     "data": {
      "text/plain": [
       "array([0.        , 0.14285714, 0.28571429, 0.42857143, 0.57142857,\n",
       "       0.71428571, 0.85714286, 1.        , 1.14285714, 1.28571429,\n",
       "       1.42857143, 1.57142857, 1.71428571, 1.85714286, 2.        ])"
      ]
     },
     "execution_count": 14,
     "metadata": {},
     "output_type": "execute_result"
    }
   ],
   "source": [
    "# if we want to generate a sequence of floats, we can use the linspace() function. In this function the third\n",
    "# argument isn't the difference between two numbers, but the total number of items you want to generate\n",
    "np.linspace(0, 2, 15) # 15 numbers from 0 (inclusive) to 2 (inclusive)"
   ]
  },
  {
   "cell_type": "markdown",
   "metadata": {},
   "source": [
    "# Array Operations"
   ]
  },
  {
   "cell_type": "code",
   "execution_count": 15,
   "metadata": {},
   "outputs": [],
   "source": [
    "# We can do many things on arrays, such as mathematical manipulation (addition, subtraction, square,\n",
    "# exponents) as well as use boolean arrays, which are binary values. We can also do matrix manipulation such\n",
    "# as product, transpose, inverse, and so forth."
   ]
  },
  {
   "cell_type": "code",
   "execution_count": 16,
   "metadata": {},
   "outputs": [
    {
     "name": "stdout",
     "output_type": "stream",
     "text": [
      "[ 9 18 27 36]\n",
      "[ 10  40  90 160]\n"
     ]
    }
   ],
   "source": [
    "# Arithmetic operators on array apply elementwise.\n",
    "\n",
    "# Let's create a couple of arrays\n",
    "a = np.array([10, 20, 30, 40])\n",
    "b = np.array([1, 2, 3,4])\n",
    "\n",
    "# Now let's look at a minus b\n",
    "c = a - b\n",
    "print(c)\n",
    "\n",
    "# And let's look at a times b\n",
    "d = a * b\n",
    "print(d)"
   ]
  },
  {
   "cell_type": "code",
   "execution_count": 17,
   "metadata": {},
   "outputs": [
    {
     "data": {
      "text/plain": [
       "array([-17.22222222, -22.77777778, -20.        , -25.55555556,\n",
       "       -17.22222222])"
      ]
     },
     "execution_count": 17,
     "metadata": {},
     "output_type": "execute_result"
    }
   ],
   "source": [
    "# With arithmetic manipulation, we can convert current data to the way we want it to be. Here's a real-world\n",
    "# problem I face - I moved down to the United States about 6 years ago from Canada. In Canada we use celcius\n",
    "# for temperatures, and my wife still hasn't converted to the US system which uses farenheit. With numpy I \n",
    "# could easily convert a number of farenheit values, say the weather forecase, to ceclius\n",
    "\n",
    "# Let's create an array of typical Ann Arbor winter farenheit values\n",
    "farenheit = np.array([0, -10, -5, -15, 0])\n",
    "\n",
    "# And the formula for conversion is ((°F − 32) × 5/9 = °C)\n",
    "celcius = (farenheit - 31) * (5 / 9)\n",
    "celcius"
   ]
  },
  {
   "cell_type": "code",
   "execution_count": 18,
   "metadata": {},
   "outputs": [],
   "source": [
    "# Great, so now she knows it's a little chilly outside but not so bad."
   ]
  },
  {
   "cell_type": "code",
   "execution_count": 19,
   "metadata": {},
   "outputs": [
    {
     "data": {
      "text/plain": [
       "array([ True, False, False, False,  True])"
      ]
     },
     "execution_count": 19,
     "metadata": {},
     "output_type": "execute_result"
    }
   ],
   "source": [
    "# Another useful and important manipulation is the boolean array. We can apply an operator on an array, and a\n",
    "# boolean array will be returned for any element in the original, with True being emitted if it meets the condition and False oetherwise.\n",
    "# For instance, if we want to get a boolean array to check celcius degrees that are greater than -20 degrees\n",
    "celcius > -20"
   ]
  },
  {
   "cell_type": "code",
   "execution_count": 20,
   "metadata": {},
   "outputs": [
    {
     "data": {
      "text/plain": [
       "array([False, False,  True, False, False])"
      ]
     },
     "execution_count": 20,
     "metadata": {},
     "output_type": "execute_result"
    }
   ],
   "source": [
    "# Here's another example, we could use the modulus operator to check numbers in an array to see if they are even. Recall that modulus does division but throws away everything but the remainder (decimal) portion)\n",
    "(celcius % 2) == 0"
   ]
  },
  {
   "cell_type": "code",
   "execution_count": 21,
   "metadata": {},
   "outputs": [
    {
     "name": "stdout",
     "output_type": "stream",
     "text": [
      "[[2 0]\n",
      " [0 4]]\n",
      "\n",
      " [[5 4]\n",
      " [3 4]]\n"
     ]
    }
   ],
   "source": [
    "# Besides elementwise manipulation, it is important to know that numpy supports matrix manipulation. Let's\n",
    "# look at matrix product. if we want to do elementwise product, we use the \"*\" sign\n",
    "A = np.array([[1, 1], [0, 1]])\n",
    "B = np.array([[2, 0], [3, 4]])\n",
    "print(A * B)\n",
    "\n",
    "# if we want to do matrix product, we use the \"@\" sign or use the dot function\n",
    "print(\"\\n\", A @ B)"
   ]
  },
  {
   "cell_type": "code",
   "execution_count": 22,
   "metadata": {},
   "outputs": [],
   "source": [
    "# You don't have to worry about complex matrix operations for this course, but it's important to know that\n",
    "# numpy is the underpinning of scientific computing libraries in python, and that it is capable of doing both\n",
    "# element-wise operations (the asterix) as well as matrix-level operations (the @ sign). There's more on this\n",
    "# in a subsequent course."
   ]
  },
  {
   "cell_type": "code",
   "execution_count": 23,
   "metadata": {},
   "outputs": [
    {
     "data": {
      "text/plain": [
       "(2, 2)"
      ]
     },
     "execution_count": 23,
     "metadata": {},
     "output_type": "execute_result"
    }
   ],
   "source": [
    "# A few more linear algebra concepts are worth layering in here. You might recall that the product of two\n",
    "# matrices is only plausible when the inner dimensions of the two matrices are the same. The dimensions refer\n",
    "# to the number of elements both horizontally and vertically in the rendered matricies you've seen here. We\n",
    "# can use numpy to quickly see the shape of a matrix:\n",
    "A.shape"
   ]
  },
  {
   "cell_type": "code",
   "execution_count": 24,
   "metadata": {},
   "outputs": [
    {
     "name": "stdout",
     "output_type": "stream",
     "text": [
      "int64\n",
      "float64\n"
     ]
    }
   ],
   "source": [
    "# When manipulating arrays of different types, the type of the resulting array will correspond to \n",
    "# the more general of the two types. This is called upcasting.\n",
    "\n",
    "# Let's create an array of integers\n",
    "array1 = np.array([[1, 2, 3], [4, 5, 6]])\n",
    "print(array1.dtype)\n",
    "\n",
    "# Now let's create an array of floats\n",
    "array2 = np.array([[7.1, 8.2, 9.1], [10.4, 11.2, 12.3]])\n",
    "print(array2.dtype)"
   ]
  },
  {
   "cell_type": "code",
   "execution_count": 25,
   "metadata": {},
   "outputs": [],
   "source": [
    "# Integers (int) are whole numbers only, and Floating point numbers (float) can have a whole number portion\n",
    "# and a decimal portion. The 64 in this example refers to the number of bits that the operating system is\n",
    "# reserving to represent the number, which determines the size (or precision) of the numbers that can be\n",
    "# represented."
   ]
  },
  {
   "cell_type": "code",
   "execution_count": 26,
   "metadata": {},
   "outputs": [
    {
     "name": "stdout",
     "output_type": "stream",
     "text": [
      "[[ 8.1 10.2 12.1]\n",
      " [14.4 16.2 18.3]]\n",
      "float64\n"
     ]
    }
   ],
   "source": [
    "# Let's do an addition for the two arrays\n",
    "array3 = array1 + array2\n",
    "\n",
    "print(array3)\n",
    "print(array3.dtype)"
   ]
  },
  {
   "cell_type": "code",
   "execution_count": 27,
   "metadata": {},
   "outputs": [],
   "source": [
    "# Notice how the items in the resulting array have been upcast into floating point numbers"
   ]
  },
  {
   "cell_type": "code",
   "execution_count": 28,
   "metadata": {},
   "outputs": [
    {
     "name": "stdout",
     "output_type": "stream",
     "text": [
      "79.3\n",
      "18.3\n",
      "8.1\n",
      "13.216666666666667\n"
     ]
    }
   ],
   "source": [
    "# Numpy arrays have many interesting aggregation functions on them, such as  sum(), max(), min(), and mean()\n",
    "print(array3.sum())\n",
    "print(array3.max())\n",
    "print(array3.min())\n",
    "print(array3.mean())"
   ]
  },
  {
   "cell_type": "code",
   "execution_count": 29,
   "metadata": {},
   "outputs": [
    {
     "name": "stdout",
     "output_type": "stream",
     "text": [
      "[[ 1  2  3  4  5]\n",
      " [ 6  7  8  9 10]\n",
      " [11 12 13 14 15]]\n"
     ]
    }
   ],
   "source": [
    "# For two dimensional arrays, we can do the same thing for each row or column\n",
    "# let's create an array with 15 elements, ranging from 1 to 15, \n",
    "# with a dimension of 3X5\n",
    "b = np.arange(1, 16, 1).reshape(3, 5)\n",
    "print(b)"
   ]
  },
  {
   "cell_type": "code",
   "execution_count": 30,
   "metadata": {},
   "outputs": [],
   "source": [
    "# Now, we often think about two dimensional arrays being made up of rows and columns, but you can also think\n",
    "# of these arrays as just a giant ordered list of numbers, and the *shape* of the array, the number of rows\n",
    "# and columns, is just an abstraction that we have for a particular purpose. Actually, this is exactly how\n",
    "# basic images are stored in computer environments.\n",
    "\n",
    "# Let's take a look at an example and see how numpy comes into play."
   ]
  },
  {
   "cell_type": "code",
   "execution_count": 31,
   "metadata": {},
   "outputs": [
    {
     "data": {
      "image/jpeg": "[encoded data removed]",
      "image/png": "[encoded data removed]",
      "text/plain": [
       "<PIL.TiffImagePlugin.TiffImageFile image mode=L size=200x200>"
      ]
     },
     "metadata": {},
     "output_type": "display_data"
    }
   ],
   "source": [
    "# For this demonstration I'll use the python imaging library (PIL) and a function to display images in the\n",
    "# Jupyter notebook\n",
    "from PIL import Image\n",
    "from IPython.display import display\n",
    "\n",
    "# And let's just look at the image I'm talking about\n",
    "im = Image.open('./datasets/chris.tiff')\n",
    "display(im)"
   ]
  },
  {
   "cell_type": "code",
   "execution_count": 32,
   "metadata": {},
   "outputs": [
    {
     "name": "stdout",
     "output_type": "stream",
     "text": [
      "(200, 200)\n"
     ]
    },
    {
     "data": {
      "text/plain": [
       "array([[118, 117, 118, ..., 103, 107, 110],\n",
       "       [113, 113, 113, ..., 100, 103, 106],\n",
       "       [108, 108, 107, ...,  95,  98, 102],\n",
       "       ...,\n",
       "       [177, 181, 182, ..., 193, 198, 192],\n",
       "       [178, 182, 183, ..., 193, 201, 189],\n",
       "       [178, 182, 184, ..., 193, 201, 187]], dtype=uint8)"
      ]
     },
     "execution_count": 32,
     "metadata": {},
     "output_type": "execute_result"
    }
   ],
   "source": [
    "# Now, we can conver this PIL image to a numpy array\n",
    "array = np.array(im)\n",
    "print(array.shape)\n",
    "array"
   ]
  },
  {
   "cell_type": "code",
   "execution_count": 33,
   "metadata": {},
   "outputs": [
    {
     "data": {
      "text/plain": [
       "array([[255, 255, 255, ..., 255, 255, 255],\n",
       "       [255, 255, 255, ..., 255, 255, 255],\n",
       "       [255, 255, 255, ..., 255, 255, 255],\n",
       "       ...,\n",
       "       [255, 255, 255, ..., 255, 255, 255],\n",
       "       [255, 255, 255, ..., 255, 255, 255],\n",
       "       [255, 255, 255, ..., 255, 255, 255]])"
      ]
     },
     "execution_count": 33,
     "metadata": {},
     "output_type": "execute_result"
    }
   ],
   "source": [
    "# Here we see that we have a 200x200 array and that the values are all uint8. The uint means that they are\n",
    "# unsigned integers (so no negative numbers) and the 8 means 8 bits per byte. This means that each value can\n",
    "# be up to 2*2*2*2*2*2*2*2=256 in size (well, actually 255, because we start at zero). For black and white\n",
    "# images black is stored as 0 and white is stored as 255. So if we just wanted to invert this image we could\n",
    "# use the numpy array to do so\n",
    "\n",
    "# Let's create an array the same shape\n",
    "mask = np.full(array.shape, 255)\n",
    "mask"
   ]
  },
  {
   "cell_type": "code",
   "execution_count": 34,
   "metadata": {},
   "outputs": [
    {
     "data": {
      "text/plain": [
       "array([[137, 138, 137, ..., 152, 148, 145],\n",
       "       [142, 142, 142, ..., 155, 152, 149],\n",
       "       [147, 147, 148, ..., 160, 157, 153],\n",
       "       ...,\n",
       "       [ 78,  74,  73, ...,  62,  57,  63],\n",
       "       [ 77,  73,  72, ...,  62,  54,  66],\n",
       "       [ 77,  73,  71, ...,  62,  54,  68]], dtype=uint8)"
      ]
     },
     "execution_count": 34,
     "metadata": {},
     "output_type": "execute_result"
    }
   ],
   "source": [
    "# Now let's subtract that from the modified array\n",
    "modified_array = array - mask\n",
    "\n",
    "# And lets convert all of the negative values to positive values\n",
    "modified_array = modified_array * -1\n",
    "\n",
    "# And as a last step, let's tell numpy to set the value of the datatype correctly\n",
    "modified_array = modified_array.astype(np.uint8)\n",
    "modified_array"
   ]
  },
  {
   "cell_type": "code",
   "execution_count": 35,
   "metadata": {},
   "outputs": [
    {
     "data": {
      "image/jpeg": "[encoded data removed]",
      "image/png": "[encoded data removed]",
      "text/plain": [
       "<PIL.Image.Image image mode=L size=200x200>"
      ]
     },
     "metadata": {},
     "output_type": "display_data"
    }
   ],
   "source": [
    "# And lastly, lets display this new array. We do this by using the fromarray() function in the python\n",
    "# imaging library to convert the numpy array into an object jupyter can render\n",
    "display(Image.fromarray(modified_array))"
   ]
  },
  {
   "cell_type": "code",
   "execution_count": 36,
   "metadata": {},
   "outputs": [
    {
     "name": "stdout",
     "output_type": "stream",
     "text": [
      "(100, 400)\n"
     ]
    },
    {
     "data": {
      "image/jpeg": "[encoded data removed]",
      "image/png": "[encoded data removed]",
      "text/plain": [
       "<PIL.Image.Image image mode=L size=400x100>"
      ]
     },
     "metadata": {},
     "output_type": "display_data"
    }
   ],
   "source": [
    "# Cool. Ok, remember how I started this by talking about how we could just think of this as a giant array\n",
    "# of bytes, and that the shape was an abstraction? Well, we could just decide to reshape the array and still\n",
    "# try and render it. PIL is interpreting the individual rows as lines, so we can change the number of lines\n",
    "# and columns if we want to. What do you think that would look like?\n",
    "reshaped = np.reshape(modified_array, (100, 400))\n",
    "print(reshaped.shape)\n",
    "display(Image.fromarray(reshaped))"
   ]
  },
  {
   "cell_type": "code",
   "execution_count": 37,
   "metadata": {},
   "outputs": [],
   "source": [
    "# Can't say I find that particularly flattering. By reshaping the array to be only 100 rows high but 400\n",
    "# columns we've essentially doubled the image by taking every other line and stacking them out in width. This\n",
    "# makes the image look more stretched out too.\n",
    "\n",
    "# This isn't an image manipulation course, but the point was to show you that these numpy arrays are really\n",
    "# just abstractions on top of data, and that data has an underlying format (in this case, uint8). But further,\n",
    "# we can build abstractions on top of that, such as computer code which renders a byte as either black or \n",
    "# white, which has meaning to people. In some ways, this whole degree is about data and the abstractions that\n",
    "# we can build on top of that data, from individual byte representations through to complex neural networks of\n",
    "# functions or interactive visualizations. Your role as a data scientist is to understand what the data means\n",
    "# (it's context an collection), and transform it into a different representation to be used for sensemaking."
   ]
  },
  {
   "cell_type": "code",
   "execution_count": 38,
   "metadata": {},
   "outputs": [],
   "source": [
    "# Ok, back to the mechanics of numpy."
   ]
  },
  {
   "cell_type": "markdown",
   "metadata": {},
   "source": [
    "# Indexing, Slicing and Iterating"
   ]
  },
  {
   "cell_type": "code",
   "execution_count": 39,
   "metadata": {},
   "outputs": [],
   "source": [
    "# Indexing, slicing and iterating are extremely important for data manipulation and analysis because these\n",
    "# techinques allow us to select data based on conditions, and copy or update data."
   ]
  },
  {
   "cell_type": "markdown",
   "metadata": {},
   "source": [
    "## Indexing"
   ]
  },
  {
   "cell_type": "code",
   "execution_count": 40,
   "metadata": {},
   "outputs": [
    {
     "data": {
      "text/plain": [
       "5"
      ]
     },
     "execution_count": 40,
     "metadata": {},
     "output_type": "execute_result"
    }
   ],
   "source": [
    "# First we are going to look at integer indexing. A one-dimensional array, works in similar ways as a list -\n",
    "# To get an element in a one-dimensional array, we simply use the offset index.\n",
    "a = np.array([1, 3, 5, 7])\n",
    "a[2]"
   ]
  },
  {
   "cell_type": "code",
   "execution_count": 41,
   "metadata": {},
   "outputs": [
    {
     "data": {
      "text/plain": [
       "array([[1, 2],\n",
       "       [3, 4],\n",
       "       [5, 6]])"
      ]
     },
     "execution_count": 41,
     "metadata": {},
     "output_type": "execute_result"
    }
   ],
   "source": [
    "# For multidimensional array, we need to use integer array indexing, let's create a new multidimensional array\n",
    "a = np.array([[1, 2], [3, 4], [5, 6]])\n",
    "a"
   ]
  },
  {
   "cell_type": "code",
   "execution_count": 42,
   "metadata": {},
   "outputs": [
    {
     "data": {
      "text/plain": [
       "4"
      ]
     },
     "execution_count": 42,
     "metadata": {},
     "output_type": "execute_result"
    }
   ],
   "source": [
    "# if we want to select one certain element, we can do so by entering the index, which is comprised of two\n",
    "# integers the first being the row, and the second the column\n",
    "a[1, 1] # remember in python we start at 0!"
   ]
  },
  {
   "cell_type": "code",
   "execution_count": 43,
   "metadata": {},
   "outputs": [
    {
     "data": {
      "text/plain": [
       "array([1, 4, 6])"
      ]
     },
     "execution_count": 43,
     "metadata": {},
     "output_type": "execute_result"
    }
   ],
   "source": [
    "# if we want to get multiple elements \n",
    "# for example, 1, 4, and 6 and put them into a one-dimensional array\n",
    "# we can enter the indices directly into an array function\n",
    "np.array([a[0, 0], a[1, 1], a[2, 1]])"
   ]
  },
  {
   "cell_type": "code",
   "execution_count": 44,
   "metadata": {},
   "outputs": [
    {
     "name": "stdout",
     "output_type": "stream",
     "text": [
      "[1 4 6]\n"
     ]
    }
   ],
   "source": [
    "# we can also do that by using another form of array indexing, which essentiall \"zips\" the first list and the\n",
    "# second list up\n",
    "print(a[[0, 1, 2], [0, 1, 1]])"
   ]
  },
  {
   "cell_type": "markdown",
   "metadata": {},
   "source": [
    "## Boolean Indexing"
   ]
  },
  {
   "cell_type": "code",
   "execution_count": 45,
   "metadata": {},
   "outputs": [
    {
     "name": "stdout",
     "output_type": "stream",
     "text": [
      "[[False False]\n",
      " [False False]\n",
      " [False  True]]\n"
     ]
    }
   ],
   "source": [
    "# Boolean indexing allows us to select arbitrary elements based on conditions. For example, in the matrix we\n",
    "# just talked about we want to find elements that are greater than 5 so we set up a conditon a >5 \n",
    "print(a > 5)\n",
    "# This returns a boolean array showing that if the value at the corresponding index is greater than 5"
   ]
  },
  {
   "cell_type": "code",
   "execution_count": 46,
   "metadata": {},
   "outputs": [
    {
     "name": "stdout",
     "output_type": "stream",
     "text": [
      "[6]\n"
     ]
    }
   ],
   "source": [
    "# We can then place this array of booleans like a mask over the original array to return a one-dimensional \n",
    "# array relating to the true values.\n",
    "print(a[a > 5])"
   ]
  },
  {
   "cell_type": "code",
   "execution_count": 47,
   "metadata": {},
   "outputs": [],
   "source": [
    "# As we will see, this functionality is essential in the pandas toolkit which is the bulk of this course"
   ]
  },
  {
   "cell_type": "markdown",
   "metadata": {},
   "source": [
    "## Slicing"
   ]
  },
  {
   "cell_type": "code",
   "execution_count": 48,
   "metadata": {},
   "outputs": [
    {
     "name": "stdout",
     "output_type": "stream",
     "text": [
      "[0 1 2]\n"
     ]
    }
   ],
   "source": [
    "# Slicing is a way to create a sub-array based on the original array. For one-dimensional arrays, slicing \n",
    "# works in similar ways to a list. To slice, we use the : sign. For instance, if we put :3 in the indexing\n",
    "# brackets, we get elements from index 0 to index 3 (excluding index 3)\n",
    "a = np.array([0, 1, 2, 3, 4, 5])\n",
    "print(a[:3])"
   ]
  },
  {
   "cell_type": "code",
   "execution_count": 49,
   "metadata": {},
   "outputs": [
    {
     "name": "stdout",
     "output_type": "stream",
     "text": [
      "[2 3]\n"
     ]
    }
   ],
   "source": [
    "# By putting 2:4 in the bracket, we get elements from index 2 to index 4 (excluding index 4)\n",
    "print(a[2:4])"
   ]
  },
  {
   "cell_type": "code",
   "execution_count": 50,
   "metadata": {},
   "outputs": [
    {
     "data": {
      "text/plain": [
       "array([[ 1,  2,  3,  4],\n",
       "       [ 5,  6,  7,  8],\n",
       "       [ 9, 10, 11, 12]])"
      ]
     },
     "execution_count": 50,
     "metadata": {},
     "output_type": "execute_result"
    }
   ],
   "source": [
    "# For multi-dimensional arrays, it works similarly, lets see an example\n",
    "a = np.array([[1, 2, 3, 4], [5, 6, 7, 8], [9, 10, 11, 12]])\n",
    "a"
   ]
  },
  {
   "cell_type": "code",
   "execution_count": 51,
   "metadata": {},
   "outputs": [
    {
     "data": {
      "text/plain": [
       "array([[1, 2, 3, 4],\n",
       "       [5, 6, 7, 8]])"
      ]
     },
     "execution_count": 51,
     "metadata": {},
     "output_type": "execute_result"
    }
   ],
   "source": [
    "# First, if we put one argument in the array, for example a[:2] then we would get all the elements from the \n",
    "# first (0th) and second row (1th)\n",
    "a[:2]"
   ]
  },
  {
   "cell_type": "code",
   "execution_count": 52,
   "metadata": {},
   "outputs": [
    {
     "data": {
      "text/plain": [
       "array([[2, 3],\n",
       "       [6, 7]])"
      ]
     },
     "execution_count": 52,
     "metadata": {},
     "output_type": "execute_result"
    }
   ],
   "source": [
    "# If we add another argument to the array, for example a[:2, 1:3], we get the first two rows but then the\n",
    "# second and third column values only\n",
    "a[:2, 1:3]"
   ]
  },
  {
   "cell_type": "code",
   "execution_count": 53,
   "metadata": {},
   "outputs": [],
   "source": [
    "# So, in multidimensional arrays, the first argument is for selecting rows, and the second argument is for \n",
    "# selecting columns"
   ]
  },
  {
   "cell_type": "code",
   "execution_count": 54,
   "metadata": {},
   "outputs": [
    {
     "name": "stdout",
     "output_type": "stream",
     "text": [
      "sub array index [0, 0] value before change: 2\n",
      "sub array index [0, 0] value after change: 50\n",
      "original array index [0, 1] value after change: 50\n"
     ]
    }
   ],
   "source": [
    "# It is important to realize that a slice of an array is a view into the same data. This is called passing by\n",
    "# reference. So modifying the sub array will consequently modify the original array\n",
    "\n",
    "# Here I'll change the element at position [0, 0], which is 2, to 50, then we can see that the value in the\n",
    "# original array is changed to 50 as well\n",
    "\n",
    "sub_array = a[:2, 1:3]\n",
    "print(\"sub array index [0, 0] value before change:\", sub_array[0, 0])\n",
    "\n",
    "sub_array[0, 0] = 50\n",
    "print(\"sub array index [0, 0] value after change:\", sub_array[0, 0])\n",
    "print(\"original array index [0, 1] value after change:\", a[0, 1])"
   ]
  },
  {
   "cell_type": "markdown",
   "metadata": {},
   "source": [
    "# Trying Numpy with Datasets"
   ]
  },
  {
   "cell_type": "code",
   "execution_count": 55,
   "metadata": {},
   "outputs": [],
   "source": [
    "# Now that we have learned the essentials of Numpy let's use it on a couple of datasets"
   ]
  },
  {
   "cell_type": "code",
   "execution_count": 56,
   "metadata": {},
   "outputs": [],
   "source": [
    "# Here we have a very popular dataset on wine quality, and we are going to only look at red wines. The data\n",
    "# fields include: fixed acidity, volatile aciditycitric acid, residual sugar, chlorides, free sulfur dioxide,\n",
    "# total sulfur dioxidedensity, pH, sulphates, alcohol, quality"
   ]
  },
  {
   "cell_type": "code",
   "execution_count": 57,
   "metadata": {},
   "outputs": [
    {
     "data": {
      "text/plain": [
       "array([[ 7.4  ,  0.7  ,  0.   , ...,  0.56 ,  9.4  ,  5.   ],\n",
       "       [ 7.8  ,  0.88 ,  0.   , ...,  0.68 ,  9.8  ,  5.   ],\n",
       "       [ 7.8  ,  0.76 ,  0.04 , ...,  0.65 ,  9.8  ,  5.   ],\n",
       "       ...,\n",
       "       [ 6.3  ,  0.51 ,  0.13 , ...,  0.75 , 11.   ,  6.   ],\n",
       "       [ 5.9  ,  0.645,  0.12 , ...,  0.71 , 10.2  ,  5.   ],\n",
       "       [ 6.   ,  0.31 ,  0.47 , ...,  0.66 , 11.   ,  6.   ]])"
      ]
     },
     "execution_count": 57,
     "metadata": {},
     "output_type": "execute_result"
    }
   ],
   "source": [
    "# To load a dataset in Numpy, we can use the genfromtxt() function. We can specify data file name, delimiter\n",
    "# (which is optional but often used), and number of rows to skip if we have a header row, hence it is 1 here\n",
    "\n",
    "# The genfromtxt() function has a parameter called dtype for specifying data types of each column this\n",
    "# parameter is optional. Without specifying the types, all types will be casted the same to the more\n",
    "# general/precise type\n",
    "\n",
    "wines = np.genfromtxt(\"./datasets/winequality-red.csv\", delimiter=\";\", skip_header=1)\n",
    "wines"
   ]
  },
  {
   "cell_type": "code",
   "execution_count": 58,
   "metadata": {},
   "outputs": [
    {
     "name": "stdout",
     "output_type": "stream",
     "text": [
      "one integer 0 for slicing:  [7.4 7.8 7.8 ... 6.3 5.9 6. ]\n",
      "0 to 1 for slicing: \n",
      " [[7.4]\n",
      " [7.8]\n",
      " [7.8]\n",
      " ...\n",
      " [6.3]\n",
      " [5.9]\n",
      " [6. ]]\n"
     ]
    }
   ],
   "source": [
    "# Recall that we can use integer indexing to get a certain column or a row. For example, if we want to select\n",
    "# the fixed acidity column, which is the first coluumn, we can do so by entering the index into the array.\n",
    "# Also remember that for multidimensional arrays, the first argument refers to the row, and the second\n",
    "# argument refers to the column, and if we just give one argument then we'll get a single dimensional list\n",
    "# back.\n",
    "\n",
    "# So all rows combined but only the first column from them would be\n",
    "print(\"one integer 0 for slicing: \", wines[:, 0])\n",
    "\n",
    "# But if we wanted the same values but wanted to preserve that they sit in their own rows we would write\n",
    "print(\"0 to 1 for slicing: \\n\", wines[:, 0:1])"
   ]
  },
  {
   "cell_type": "code",
   "execution_count": 59,
   "metadata": {},
   "outputs": [],
   "source": [
    "# This is another great example of how the shape of the data is an abstraction which we can layer\n",
    "# intentionally on top of the data we are working with."
   ]
  },
  {
   "cell_type": "code",
   "execution_count": 60,
   "metadata": {},
   "outputs": [
    {
     "data": {
      "text/plain": [
       "array([[7.4  , 0.7  , 0.   ],\n",
       "       [7.8  , 0.88 , 0.   ],\n",
       "       [7.8  , 0.76 , 0.04 ],\n",
       "       ...,\n",
       "       [6.3  , 0.51 , 0.13 ],\n",
       "       [5.9  , 0.645, 0.12 ],\n",
       "       [6.   , 0.31 , 0.47 ]])"
      ]
     },
     "execution_count": 60,
     "metadata": {},
     "output_type": "execute_result"
    }
   ],
   "source": [
    "# If we want a range of columns in order, say columns 0 through 3 (recall, this means first, second, and\n",
    "# third, since we start at zero and don't include the training index value), we can do that too\n",
    "wines[:, 0:3]"
   ]
  },
  {
   "cell_type": "code",
   "execution_count": 61,
   "metadata": {},
   "outputs": [
    {
     "data": {
      "text/plain": [
       "array([[7.4  , 0.   , 0.076],\n",
       "       [7.8  , 0.   , 0.098],\n",
       "       [7.8  , 0.04 , 0.092],\n",
       "       ...,\n",
       "       [6.3  , 0.13 , 0.076],\n",
       "       [5.9  , 0.12 , 0.075],\n",
       "       [6.   , 0.47 , 0.067]])"
      ]
     },
     "execution_count": 61,
     "metadata": {},
     "output_type": "execute_result"
    }
   ],
   "source": [
    "# What if we want several non-consecutive columns? We can place the indices of the columns that we want into\n",
    "# an array and pass the array as the second argument. Here's an example\n",
    "wines[:, [0, 2, 4]]"
   ]
  },
  {
   "cell_type": "code",
   "execution_count": 62,
   "metadata": {},
   "outputs": [
    {
     "data": {
      "text/plain": [
       "5.6360225140712945"
      ]
     },
     "execution_count": 62,
     "metadata": {},
     "output_type": "execute_result"
    }
   ],
   "source": [
    "# We can also do some basic summarization of this dataset. For example, if we want to find out the average\n",
    "# quality of red wine, we can select the quality column. We could do this in a couple of ways, but the most\n",
    "# appropriate is to use the -1 value for the index, as negative numbers mean slicing from the back of the\n",
    "# list. We can then call the aggregation functions on this data.\n",
    "wines[:, -1].mean()"
   ]
  },
  {
   "cell_type": "code",
   "execution_count": 63,
   "metadata": {},
   "outputs": [],
   "source": [
    "# Let's take a look at another dataset, this time on graduate school admissions. It has fields such as GRE\n",
    "# score, TOEFL score, university rating, GPA, having research experience or not, and a chance of admission.\n",
    "# With this dataset, we can do data manipulation and basic analysis to infer what conditions are associated\n",
    "# with higher chance of admission. Let's take a look."
   ]
  },
  {
   "cell_type": "code",
   "execution_count": 64,
   "metadata": {},
   "outputs": [
    {
     "data": {
      "text/plain": [
       "array([( 1, 337, 118, 4, 4.5, 4.5, 9.65, 1, 0.92),\n",
       "       ( 2, 324, 107, 4, 4. , 4.5, 8.87, 1, 0.76),\n",
       "       ( 3, 316, 104, 3, 3. , 3.5, 8.  , 1, 0.72),\n",
       "       ( 4, 322, 110, 3, 3.5, 2.5, 8.67, 1, 0.8 ),\n",
       "       ( 5, 314, 103, 2, 2. , 3. , 8.21, 0, 0.65),\n",
       "       ( 6, 330, 115, 5, 4.5, 3. , 9.34, 1, 0.9 ),\n",
       "       ( 7, 321, 109, 3, 3. , 4. , 8.2 , 1, 0.75),\n",
       "       ( 8, 308, 101, 2, 3. , 4. , 7.9 , 0, 0.68),\n",
       "       ( 9, 302, 102, 1, 2. , 1.5, 8.  , 0, 0.5 ),\n",
       "       (10, 323, 108, 3, 3.5, 3. , 8.6 , 0, 0.45)],\n",
       "      dtype=[('Serial_No', '<i8'), ('GRE_Score', '<i8'), ('TOEFL_Score', '<i8'), ('University_Rating', '<i8'), ('SOP', '<f8'), ('LOR', '<f8'), ('CGPA', '<f8'), ('Research', '<i8'), ('Chance_of_Admit', '<f8')])"
      ]
     },
     "execution_count": 64,
     "metadata": {},
     "output_type": "execute_result"
    }
   ],
   "source": [
    "# We can specify data field names when using genfromtxt() to loads CSV data. Also, we can have numpy try and\n",
    "# infer the type of a column by setting the dtype parameter to None\n",
    "graduate_admission = np.genfromtxt('./datasets/Admission_Predict.csv', dtype=None, delimiter=',', skip_header=1,\n",
    "                                   names=('Serial No', 'GRE Score', 'TOEFL Score', 'University Rating', 'SOP',\n",
    "                                          'LOR', 'CGPA', 'Research', 'Chance of Admit'))\n",
    "graduate_admission[:10]"
   ]
  },
  {
   "cell_type": "code",
   "execution_count": 65,
   "metadata": {},
   "outputs": [
    {
     "data": {
      "text/plain": [
       "(400,)"
      ]
     },
     "execution_count": 65,
     "metadata": {},
     "output_type": "execute_result"
    }
   ],
   "source": [
    "# Notice that the resulting array is actually a one-dimensional array with 400 tuples\n",
    "graduate_admission.shape"
   ]
  },
  {
   "cell_type": "code",
   "execution_count": 66,
   "metadata": {},
   "outputs": [
    {
     "data": {
      "text/plain": [
       "array([9.65, 8.87, 8.  , 8.67, 8.21])"
      ]
     },
     "execution_count": 66,
     "metadata": {},
     "output_type": "execute_result"
    }
   ],
   "source": [
    "# We can retrieve a column from the array using the column's name for example, let's get the CGPA column and\n",
    "# only the first five values.\n",
    "graduate_admission['CGPA'][0:5]"
   ]
  },
  {
   "cell_type": "code",
   "execution_count": 67,
   "metadata": {},
   "outputs": [
    {
     "data": {
      "text/plain": [
       "array([3.86 , 3.548, 3.2  , 3.468, 3.284, 3.736, 3.28 , 3.16 , 3.2  ,\n",
       "       3.44 , 3.36 , 3.6  , 3.64 , 3.2  , 3.28 , 3.32 , 3.48 , 3.2  ,\n",
       "       3.52 , 3.4  ])"
      ]
     },
     "execution_count": 67,
     "metadata": {},
     "output_type": "execute_result"
    }
   ],
   "source": [
    "# Since the GPA in the dataset range from 1 to 10, and in the US it's more common to use a scale of up to 4,\n",
    "# a common task might be to convert the GPA by dividing by 10 and then multiplying by 4\n",
    "graduate_admission['CGPA'] = (graduate_admission['CGPA'] / 10) * 4\n",
    "graduate_admission['CGPA'][0:20] # let's get 20 values"
   ]
  },
  {
   "cell_type": "code",
   "execution_count": 68,
   "metadata": {},
   "outputs": [
    {
     "data": {
      "text/plain": [
       "219"
      ]
     },
     "execution_count": 68,
     "metadata": {},
     "output_type": "execute_result"
    }
   ],
   "source": [
    "# Recall boolean masking. We can use this to find out how many students have had research experience by\n",
    "# creating a boolean mask and passing it to the array indexing operator\n",
    "len(graduate_admission[graduate_admission['Research'] == 1])"
   ]
  },
  {
   "cell_type": "code",
   "execution_count": 69,
   "metadata": {},
   "outputs": [
    {
     "name": "stdout",
     "output_type": "stream",
     "text": [
      "328.7350427350427\n",
      "302.2857142857143\n"
     ]
    }
   ],
   "source": [
    "# Since we have the data field chance of admission, which ranges from 0 to 1, we can try to see if students\n",
    "# with high chance of admission (>0.8) on average have higher GRE score than those with lower chance of\n",
    "# admission (<0.4)\n",
    "\n",
    "# So first we use boolean masking to pull out only those students we are interested in based on their chance\n",
    "# of admission, then we pull out only their GPA scores, then we print the mean values.\n",
    "print(graduate_admission[graduate_admission['Chance_of_Admit'] > 0.8]['GRE_Score'].mean())\n",
    "print(graduate_admission[graduate_admission['Chance_of_Admit'] < 0.4]['GRE_Score'].mean())"
   ]
  },
  {
   "cell_type": "code",
   "execution_count": 70,
   "metadata": {},
   "outputs": [
    {
     "data": {
      "text/plain": [
       "array([( 1, 337, 118, 4, 4.5, 4.5, 3.86 , 1, 0.92),\n",
       "       ( 6, 330, 115, 5, 4.5, 3. , 3.736, 1, 0.9 ),\n",
       "       (12, 327, 111, 4, 4. , 4.5, 3.6  , 1, 0.84),\n",
       "       (23, 328, 116, 5, 5. , 5. , 3.8  , 1, 0.94),\n",
       "       (24, 334, 119, 5, 5. , 4.5, 3.88 , 1, 0.95),\n",
       "       (25, 336, 119, 5, 4. , 3.5, 3.92 , 1, 0.97),\n",
       "       (26, 340, 120, 5, 4.5, 4.5, 3.84 , 1, 0.94),\n",
       "       (33, 338, 118, 4, 3. , 4.5, 3.76 , 1, 0.91),\n",
       "       (34, 340, 114, 5, 4. , 4. , 3.84 , 1, 0.9 ),\n",
       "       (35, 331, 112, 5, 4. , 5. , 3.92 , 1, 0.94)],\n",
       "      dtype=[('Serial_No', '<i8'), ('GRE_Score', '<i8'), ('TOEFL_Score', '<i8'), ('University_Rating', '<i8'), ('SOP', '<f8'), ('LOR', '<f8'), ('CGPA', '<f8'), ('Research', '<i8'), ('Chance_of_Admit', '<f8')])"
      ]
     },
     "execution_count": 70,
     "metadata": {},
     "output_type": "execute_result"
    }
   ],
   "source": [
    "# Take a moment to reflect here, do you understand what is happening in these calls?\n",
    "\n",
    "# When we do the boolean masking we are left with an array with tuples in it still, and numpy holds underneath\n",
    "# this a list of the columns we specified and their name and indexes\n",
    "graduate_admission[graduate_admission['Chance_of_Admit'] > 0.8][:10]"
   ]
  },
  {
   "cell_type": "code",
   "execution_count": 71,
   "metadata": {},
   "outputs": [
    {
     "name": "stdout",
     "output_type": "stream",
     "text": [
      "3.7106666666666666\n",
      "3.0222857142857142\n"
     ]
    }
   ],
   "source": [
    "# Let's also do this with GPA\n",
    "print(graduate_admission[graduate_admission['Chance_of_Admit'] > 0.8]['CGPA'].mean())\n",
    "print(graduate_admission[graduate_admission['Chance_of_Admit'] < 0.4]['CGPA'].mean())"
   ]
  },
  {
   "cell_type": "code",
   "execution_count": 72,
   "metadata": {},
   "outputs": [],
   "source": [
    "# Hrm, well, I guess one could have expected this. The GPA and GRE for students who have a higher chance of\n",
    "# being admitted, at least based on our cursory look here, seems to be higher."
   ]
  },
  {
   "cell_type": "markdown",
   "metadata": {},
   "source": [
    "So that's a bit of a whirlwing tour of numpy, the core scientific computing library in python. Now, you're going to see a lot more of this kind of discussion, as the library we'll be focusing on in this course is pandas, which is built on top of numpy. Don't worry if it didn't all sink in the first time, we're going to dig in to most of these topics again with pandas. However, it's useful to know that many of the functions and capabilities of numpy are available to you within pandas."
   ]
  }
 ],
 "metadata": {
  "kernelspec": {
   "display_name": "Python 3.9.12 ('base')",
   "language": "python",
   "name": "python3"
  },
  "language_info": {
   "codemirror_mode": {
    "name": "ipython",
    "version": 3
   },
   "file_extension": ".py",
   "mimetype": "text/x-python",
   "name": "python",
   "nbconvert_exporter": "python",
   "pygments_lexer": "ipython3",
   "version": "3.11.7"
  },
  "vscode": {
   "interpreter": {
    "hash": "3cfd106f785ae1e288da74ae733f9b47f8a2699db986927140be0bc196406f4c"
   }
  }
 },
 "nbformat": 4,
 "nbformat_minor": 2
}
