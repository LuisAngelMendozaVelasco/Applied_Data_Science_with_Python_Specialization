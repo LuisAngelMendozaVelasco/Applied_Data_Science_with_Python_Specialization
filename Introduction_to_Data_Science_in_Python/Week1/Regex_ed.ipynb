{
 "cells": [
  {
   "cell_type": "markdown",
   "metadata": {},
   "source": [
    "In this lecture we're going to talk about pattern matching in strings using regular expressions. Regular\n",
    "expressions, or regexes, are written in a condensed formatting language. In general, you can think of a\n",
    "regular expression as a pattern which you give to a regex processor with some source data. The processor then\n",
    "parses that source data using that pattern, and returns chunks of text back to the a data scientist or \n",
    "programmer for further manipulation. There's really three main reasons you would want to do this - to check\n",
    "whether a pattern exists within some source data, to get all instances of a complex pattern from some source\n",
    "data, or to clean your source data using a pattern generally through string splitting. Regexes are not\n",
    "trivial, but they are a foundational technique for data cleaning in data science applications, and a solid\n",
    "understanding of regexs will help you quickly and efficiently manipulate text data for further data science\n",
    "application.\n",
    "\n",
    "Now, you could teach a whole course on regular expressions alone, especially if you wanted to demystify how\n",
    "the regex parsing engine works and efficient mechanisms for parsing text. In this lecture I want to give you\n",
    "basic understanding of how regex works - enough knowledge that, with a little directed sleuthing, you'll be\n",
    "able to make sense of the regex patterns you see others use, and you can build up your practical knowledge of\n",
    "how to use regexes to improve your data cleaning. By the end of this lecture, you will understand the basics\n",
    "of regular expressions, how to define patterns for matching, how to apply these patterns to strings, and how\n",
    "to use the results of those patterns in data processing.\n",
    "\n",
    "Finally, a note that in order to best learn regexes you need to write regexes. I encourage you to stop the\n",
    "video at any time and try out new patterns or syntax you learn at any time."
   ]
  },
  {
   "cell_type": "code",
   "execution_count": 58,
   "metadata": {},
   "outputs": [],
   "source": [
    "# First we'll import the re module, which is where python stores regular expression libraries.\n",
    "import re"
   ]
  },
  {
   "cell_type": "code",
   "execution_count": 59,
   "metadata": {},
   "outputs": [
    {
     "name": "stdout",
     "output_type": "stream",
     "text": [
      "Wonderful!\n"
     ]
    }
   ],
   "source": [
    "# There are several main processing functions in re that you might use. The first, match() checks for a match\n",
    "# that is at the beginning of the string and returns a boolean. Similarly, search(), checks for a match\n",
    "# anywhere in the string, and returns a boolean.\n",
    "\n",
    "# Lets create some text for an example\n",
    "text = \"This is a good day.\"\n",
    "\n",
    "# Now, lets see if it's a good day or not:\n",
    "if re.search(\"good\", text): # the first parameter here is the pattern\n",
    "    print(\"Wonderful!\")\n",
    "else:\n",
    "    print(\"Alas :(\")"
   ]
  },
  {
   "cell_type": "code",
   "execution_count": 60,
   "metadata": {},
   "outputs": [
    {
     "data": {
      "text/plain": [
       "['',\n",
       " ' works diligently. ',\n",
       " ' gets good grades. Our student ',\n",
       " ' is succesful.']"
      ]
     },
     "execution_count": 60,
     "metadata": {},
     "output_type": "execute_result"
    }
   ],
   "source": [
    "# In addition to checking for conditionals, we can segment a string. The work that regex does here is called\n",
    "# tokenizing, where the string is separated into substrings based on patterns. Tokenizing is a core activity\n",
    "# in natural language processing, which we won't talk much about here but that you will study in the future\n",
    "\n",
    "# The findall() and split() functions will parse the string for us and return chunks. Lets try and example\n",
    "text = \"Amy works diligently. Amy gets good grades. Our student Amy is succesful.\"\n",
    "\n",
    "# This is a bit of a fabricated example, but lets split this on all instances of Amy\n",
    "re.split(\"Amy\", text)"
   ]
  },
  {
   "cell_type": "code",
   "execution_count": 61,
   "metadata": {},
   "outputs": [
    {
     "data": {
      "text/plain": [
       "['Amy', 'Amy', 'Amy']"
      ]
     },
     "execution_count": 61,
     "metadata": {},
     "output_type": "execute_result"
    }
   ],
   "source": [
    "# You'll notice that split has returned an empty string, followed by a number of statements about Amy, all as\n",
    "# elements of a list. If we wanted to count how many times we have talked about Amy, we could use findall()\n",
    "re.findall(\"Amy\", text)"
   ]
  },
  {
   "cell_type": "code",
   "execution_count": 62,
   "metadata": {},
   "outputs": [],
   "source": [
    "# Ok, so we've seen that .search() looks for some pattern and returns a boolean, that .split() will use a\n",
    "# pattern for creating a list of substrings, and that .findall() will look for a pattern and pull out all\n",
    "# occurences."
   ]
  },
  {
   "cell_type": "code",
   "execution_count": 63,
   "metadata": {},
   "outputs": [
    {
     "data": {
      "text/plain": [
       "<re.Match object; span=(0, 3), match='Amy'>"
      ]
     },
     "execution_count": 63,
     "metadata": {},
     "output_type": "execute_result"
    }
   ],
   "source": [
    "# Now that we know how the python regex API works, lets talk about more complex patterns. The regex\n",
    "# specification standard defines a markup language to describe patterns in text. Lets start with anchors.\n",
    "# Anchors specify the start and/or the end of the string that you are trying to match. The caret character ^\n",
    "# means start and the dollar sign character $ means end. If you put ^ before a string, it means that the text\n",
    "# the regex processor retrieves must start with the string you specify. For ending, you have to put the $\n",
    "# character after the string, it means that the text Regex retrieves must end with the string you specify.\n",
    "\n",
    "# Here's an example\n",
    "text = \"Amy works diligently. Amy gets good grades. Our student Amy is succesful.\"\n",
    "\n",
    "# Lets see if this begins with Amy\n",
    "re.search(\"^Amy\", text)"
   ]
  },
  {
   "cell_type": "code",
   "execution_count": 64,
   "metadata": {},
   "outputs": [],
   "source": [
    "# Notice that re.search() actually returned to us a new object, called re.Match object. An re.Match object\n",
    "# always has a boolean value of True, as something was found, so you can always evaluate it in an if statement\n",
    "# as we did earlier. The rendering of the match object also tells you what pattern was matched, in this case\n",
    "# the word Amy, and the location the match was in, as the span."
   ]
  },
  {
   "cell_type": "markdown",
   "metadata": {},
   "source": [
    "# Patterns and Character Classes"
   ]
  },
  {
   "cell_type": "code",
   "execution_count": 65,
   "metadata": {},
   "outputs": [
    {
     "data": {
      "text/plain": [
       "['B', 'B', 'B']"
      ]
     },
     "execution_count": 65,
     "metadata": {},
     "output_type": "execute_result"
    }
   ],
   "source": [
    "# Let's talk more about patterns and start with character classes. Let's create a string of a single learners'\n",
    "# grades over a semester in one course across all of their assignments\n",
    "grades = \"ACAAAABCBCBAA\"\n",
    "\n",
    "# If we want to answer the question \"How many B's were in the grade list?\" we would just use B\n",
    "re.findall(\"B\", grades)"
   ]
  },
  {
   "cell_type": "code",
   "execution_count": 66,
   "metadata": {},
   "outputs": [
    {
     "data": {
      "text/plain": [
       "['A', 'A', 'A', 'A', 'A', 'B', 'B', 'B', 'A', 'A']"
      ]
     },
     "execution_count": 66,
     "metadata": {},
     "output_type": "execute_result"
    }
   ],
   "source": [
    "# If we wanted to count the number of A's or B's in the list, we can't use \"AB\" since this is used to match\n",
    "# all A's followed immediately by a B. Instead, we put the characters A and B inside square brackets\n",
    "re.findall(\"[AB]\", grades)"
   ]
  },
  {
   "cell_type": "code",
   "execution_count": 67,
   "metadata": {},
   "outputs": [
    {
     "data": {
      "text/plain": [
       "['AC', 'AB']"
      ]
     },
     "execution_count": 67,
     "metadata": {},
     "output_type": "execute_result"
    }
   ],
   "source": [
    "# This is called the set operator. You can also include a range of characters, which are ordered\n",
    "# alphanumerically. For instance, if we want to refer to all lower case letters we could use [a-z] Lets build\n",
    "# a simple regex to parse out all instances where this student receive an A followed by a B or a C\n",
    "re.findall(\"[A][B-C]\", grades)"
   ]
  },
  {
   "cell_type": "code",
   "execution_count": 68,
   "metadata": {},
   "outputs": [
    {
     "data": {
      "text/plain": [
       "['AC', 'AB']"
      ]
     },
     "execution_count": 68,
     "metadata": {},
     "output_type": "execute_result"
    }
   ],
   "source": [
    "# Notice how the [AB] pattern describes a set of possible characters which could be either (A OR B), while the\n",
    "# [A][B-C] pattern denoted two sets of characters which must have been matched back to back. You can write\n",
    "# this pattern by using the pipe operator, which means OR\n",
    "re.findall(\"AB|AC\", grades)"
   ]
  },
  {
   "cell_type": "code",
   "execution_count": 69,
   "metadata": {},
   "outputs": [
    {
     "data": {
      "text/plain": [
       "['C', 'B', 'C', 'B', 'C', 'B']"
      ]
     },
     "execution_count": 69,
     "metadata": {},
     "output_type": "execute_result"
    }
   ],
   "source": [
    "# We can use the caret with the set operator to negate our results. For instance, if we want to parse out only\n",
    "# the grades which were not A's\n",
    "re.findall(\"[^A]\", grades)"
   ]
  },
  {
   "cell_type": "code",
   "execution_count": 70,
   "metadata": {},
   "outputs": [
    {
     "data": {
      "text/plain": [
       "[]"
      ]
     },
     "execution_count": 70,
     "metadata": {},
     "output_type": "execute_result"
    }
   ],
   "source": [
    "# Note this carefully - the caret was previously matched to the beginning of a string as an anchor point, but\n",
    "# inside of the set operator the caret, and the other special characters we will be talking about, lose their\n",
    "# meaning. This can be a bit confusing. What do you think the result would be of this?\n",
    "re.findall(\"^[^A]\",grades)"
   ]
  },
  {
   "cell_type": "code",
   "execution_count": 71,
   "metadata": {},
   "outputs": [],
   "source": [
    "# It's an empty list, because the regex says that we want to match any value at the beginning of the string\n",
    "# which is not an A. Our string though starts with an A, so there is no match found. And remember when you are\n",
    "# using the set operator you are doing character-based matching. So you are matching individual characters in\n",
    "# an OR method."
   ]
  },
  {
   "cell_type": "markdown",
   "metadata": {},
   "source": [
    "# Quantifiers"
   ]
  },
  {
   "cell_type": "code",
   "execution_count": 72,
   "metadata": {},
   "outputs": [],
   "source": [
    "# Ok, so we've talked about anchors and matching to the beginning and end of patterns. And we've talked about\n",
    "# characters and using sets with the [] notation. We've also talked about character negation, and how the pipe\n",
    "# | character allows us to or operations. Lets move on to quantifiers."
   ]
  },
  {
   "cell_type": "code",
   "execution_count": 73,
   "metadata": {},
   "outputs": [
    {
     "data": {
      "text/plain": [
       "['AAAA', 'AA']"
      ]
     },
     "execution_count": 73,
     "metadata": {},
     "output_type": "execute_result"
    }
   ],
   "source": [
    "# Quantifiers are the number of times you want a pattern to be matched in order to match. The most basic\n",
    "# quantifier is expressed as e{m,n}, where e is the expression or character we are matching, m is the minimum\n",
    "# number of times you want it to matched, and n is the maximum number of times the item could be matched.\n",
    "\n",
    "# Let's use these grades as an example. How many times has this student been on a back-to-back A's streak?\n",
    "re.findall(\"A{2,10}\", grades) # we'll use 2 as our min, but ten as our max"
   ]
  },
  {
   "cell_type": "code",
   "execution_count": 74,
   "metadata": {},
   "outputs": [
    {
     "data": {
      "text/plain": [
       "['AA', 'AA', 'AA']"
      ]
     },
     "execution_count": 74,
     "metadata": {},
     "output_type": "execute_result"
    }
   ],
   "source": [
    "# So we see that there were two streaks, one where the student had four A's, and one where they had only two\n",
    "# A's\n",
    "\n",
    "# We might try and do this using single values and just repeating the pattern\n",
    "re.findall(\"A{1,1}A{1,1}\", grades)"
   ]
  },
  {
   "cell_type": "code",
   "execution_count": 75,
   "metadata": {},
   "outputs": [
    {
     "data": {
      "text/plain": [
       "['AA', 'AA', 'AA']"
      ]
     },
     "execution_count": 75,
     "metadata": {},
     "output_type": "execute_result"
    }
   ],
   "source": [
    "# As you can see, this is different than the first example. The first pattern is looking for any combination\n",
    "# of two A's up to ten A's in a row. So it sees four A's as a single streak. The second pattern is looking for\n",
    "# two A's back to back, so it sees two A's followed immediately by two more A's. We say that the regex\n",
    "# processor begins at the start of the string and consumes variables which match patterns as it does.\n",
    "\n",
    "# It's important to note that the regex quantifier syntax does not allow you to deviate from the {m,n}\n",
    "# pattern. In particular, if you have an extra space in between the braces you'll get an empty result\n",
    "re.findall(\"A{2,2}\", grades)"
   ]
  },
  {
   "cell_type": "code",
   "execution_count": 76,
   "metadata": {},
   "outputs": [
    {
     "data": {
      "text/plain": [
       "['AA', 'AA', 'AA']"
      ]
     },
     "execution_count": 76,
     "metadata": {},
     "output_type": "execute_result"
    }
   ],
   "source": [
    "# And as we have already seen, if we don't include a quantifier then the default is {1,1}\n",
    "re.findall(\"AA\", grades)"
   ]
  },
  {
   "cell_type": "code",
   "execution_count": 77,
   "metadata": {},
   "outputs": [
    {
     "data": {
      "text/plain": [
       "['AA', 'AA', 'AA']"
      ]
     },
     "execution_count": 77,
     "metadata": {},
     "output_type": "execute_result"
    }
   ],
   "source": [
    "# Oh, and if you just have one number in the braces, it's considered to be both m and n\n",
    "re.findall(\"A{2}\", grades)"
   ]
  },
  {
   "cell_type": "code",
   "execution_count": 78,
   "metadata": {},
   "outputs": [
    {
     "data": {
      "text/plain": [
       "['AAAABC']"
      ]
     },
     "execution_count": 78,
     "metadata": {},
     "output_type": "execute_result"
    }
   ],
   "source": [
    "# Using this, we could find a decreasing trend in a student's grades\n",
    "re.findall(\"A{1,10}B{1,10}C{1,10}\", grades)"
   ]
  },
  {
   "cell_type": "code",
   "execution_count": 79,
   "metadata": {},
   "outputs": [
    {
     "name": "stdout",
     "output_type": "stream",
     "text": [
      "Overview[edit]\n",
      "FERPA gives parents access to their child's education records, an opportunity to seek to have the records amended, and some control over the disclosure of information from the records. With several exceptions, schools must have a student's consent prior to the disclosure of education records after that student is 18 years old. The law applies only to educational agencies and institutions that receive funds under a program administered by the U.S. Department of Education.\n",
      "\n",
      "Other regulations under this act, effective starting January 3, 2012, allow for greater disclosures of personal and directory student identifying information and regulate student IDs and e-mail addresses.[2] For example, schools may provide external companies with a student's personally identifiable information without the student's consent.[2]\n",
      "\n",
      "Examples of situations affected by FERPA include school employees divulging information to anyone other than the student about the student's grades or behavior, and school work posted on a bulletin board with a grade. Generally, schools must have written permission from the parent or eligible student in order to release any information from a student's education record.\n",
      "\n",
      "This privacy policy also governs how state agencies transmit testing data to federal agencies, such as the Education Data Exchange Network.\n",
      "\n",
      "This U.S. federal law also gave students 18 years of age or older, or students of any age if enrolled in any post-secondary educational institution, the right of privacy regarding grades, enrollment, and even billing information unless the school has specific permission from the student to share that specific type of information.\n",
      "\n",
      "FERPA also permits a school to disclose personally identifiable information from education records of an \"eligible student\" (a student age 18 or older or enrolled in a postsecondary institution at any age) to his or her parents if the student is a \"dependent student\" as that term is defined in Section 152 of the Internal Revenue Code. Generally, if either parent has claimed the student as a dependent on the parent's most recent income tax statement, the school may non-consensually disclose the student's education records to both parents.[3]\n",
      "\n",
      "The law allowed students who apply to an educational institution such as graduate school permission to view recommendations submitted by others as part of the application. However, on standard application forms, students are given the option to waive this right.\n",
      "\n",
      "FERPA specifically excludes employees of an educational institution if they are not students.\n",
      "\n",
      "The act is also referred to as the Buckley Amendment, for one of its proponents, Senator James L. Buckley of New York.\n",
      "\n",
      "Access to public records[edit]\n",
      "The citing of FERPA to conceal public records that are not \"educational\" in nature has been widely criticized, including by the act's primary Senate sponsor.[4] For example, in the Owasso Independent School District v. Falvo case, an important part of the debate was determining the relationship between peer-grading and \"education records\" as defined in FERPA. In the Court of Appeals, it was ruled that students placing grades on the work of other students made such work into an \"education record.\" Thus, peer-grading was determined as a violation of FERPA privacy policies because students had access to other students' academic performance without full consent.[5] However, when the case went to the Supreme Court, it was officially ruled that peer-grading was not a violation of FERPA. This is because a grade written on a student's work does not become an \"education record\" until the teacher writes the final grade into a grade book.[6]\n",
      "\n",
      "Student medical records[edit]\n",
      "Legal experts have debated the issue of whether student medical records (for example records of therapy sessions with a therapist at an on-campus counseling center) might be released to the school administration under certain triggering events, such as when a student sued his college or university.[7][8]\n",
      "\n",
      "Usually, student medical treatment records will remain under the protection of FERPA, not the Health Insurance Portability and Accountability Act (HIPAA). This is due to the \"FERPA Exception\" written within HIPAA.[9]\n"
     ]
    }
   ],
   "source": [
    "# Now, that's a bit of a hack, because we included a maximum that was just arbitrarily large. There are three\n",
    "# other quantifiers that are used as short hand, an asterix * to match 0 or more times, a question mark ? to\n",
    "# match one or more times, or a + plus sign to match one or more times. Lets look at a more complex example,\n",
    "# and load some data scraped from wikipedia\n",
    "with open(\"datasets/ferpa.txt\", \"r\") as file:\n",
    "    # we'll read that into a variable called wiki\n",
    "    wiki = file.read()\n",
    "# and lets print that variable out to the screen\n",
    "print(wiki)"
   ]
  },
  {
   "cell_type": "code",
   "execution_count": 80,
   "metadata": {},
   "outputs": [
    {
     "data": {
      "text/plain": [
       "['Overview[edit]', 'records[edit]', 'records[edit]']"
      ]
     },
     "execution_count": 80,
     "metadata": {},
     "output_type": "execute_result"
    }
   ],
   "source": [
    "# Scanning through this document one of the things we notice is that the headers all have the words [edit]\n",
    "# behind them, followed by a newline character. So if we wanted to get a list of all of the headers in this\n",
    "# article we could do so using re.findall\n",
    "re.findall(\"[a-zA-Z]{1,100}\\[edit\\]\", wiki)"
   ]
  },
  {
   "cell_type": "code",
   "execution_count": 81,
   "metadata": {},
   "outputs": [
    {
     "data": {
      "text/plain": [
       "['Overview[edit]', 'records[edit]', 'records[edit]']"
      ]
     },
     "execution_count": 81,
     "metadata": {},
     "output_type": "execute_result"
    }
   ],
   "source": [
    "# Ok, that didn't quite work. It got all of the headers, but only the last word of the header, and it really\n",
    "# was quite clunky. Lets iteratively improve this. First, we can use \\w to match any letter, including digits\n",
    "# and numbers.\n",
    "re.findall(\"[\\w]{1,100}\\[edit\\]\", wiki)"
   ]
  },
  {
   "cell_type": "code",
   "execution_count": 82,
   "metadata": {},
   "outputs": [
    {
     "data": {
      "text/plain": [
       "['Overview[edit]', 'records[edit]', 'records[edit]']"
      ]
     },
     "execution_count": 82,
     "metadata": {},
     "output_type": "execute_result"
    }
   ],
   "source": [
    "# This is something new. \\w is a metacharacter, and indicates a special pattern of any letter or digit. There\n",
    "# are actually a number of different metacharacters listed in the documentation. For instance, \\s matches any\n",
    "# whitespace character.\n",
    "\n",
    "# Next, there are three other quantifiers we can use which shorten up the curly brace syntax. We can use an\n",
    "# asterix * to match 0 or more times, so let's try that.\n",
    "re.findall(\"[\\w]*\\[edit\\]\", wiki)"
   ]
  },
  {
   "cell_type": "code",
   "execution_count": 83,
   "metadata": {},
   "outputs": [
    {
     "data": {
      "text/plain": [
       "['Overview[edit]',\n",
       " 'Access to public records[edit]',\n",
       " 'Student medical records[edit]']"
      ]
     },
     "execution_count": 83,
     "metadata": {},
     "output_type": "execute_result"
    }
   ],
   "source": [
    "# Now that we have shortened the regex, let's improve it a little bit. We can add in a spaces using the space\n",
    "# character\n",
    "re.findall(\"[\\w ]*\\[edit\\]\", wiki)"
   ]
  },
  {
   "cell_type": "code",
   "execution_count": 84,
   "metadata": {},
   "outputs": [
    {
     "name": "stdout",
     "output_type": "stream",
     "text": [
      "Overview\n",
      "Access to public records\n",
      "Student medical records\n"
     ]
    }
   ],
   "source": [
    "# Ok, so this gets us the list of section titles in the wikipedia page! You can now create a list of titles by\n",
    "# iterating through this and applying another regex\n",
    "for title in re.findall(\"[\\w ]*\\[edit\\]\", wiki):\n",
    "    # Now we will take that intermediate result and split on the square bracket [ just taking the first result\n",
    "    print(re.split(\"[\\[]\", title)[0])"
   ]
  },
  {
   "cell_type": "markdown",
   "metadata": {},
   "source": [
    "# Groups"
   ]
  },
  {
   "cell_type": "code",
   "execution_count": 85,
   "metadata": {},
   "outputs": [
    {
     "data": {
      "text/plain": [
       "[('Overview', '[edit]'),\n",
       " ('Access to public records', '[edit]'),\n",
       " ('Student medical records', '[edit]')]"
      ]
     },
     "execution_count": 85,
     "metadata": {},
     "output_type": "execute_result"
    }
   ],
   "source": [
    "# Ok, this works, but it's a bit of a pain. To this point we have been talking about a regex as a single\n",
    "# pattern which is matched. But, you can actually match different patterns, called groups, at the same time,\n",
    "# and then refer to the groups you want. To group patterns together you use parentheses, which is actually\n",
    "# pretty natural. Lets rewrite our findall using groups\n",
    "re.findall(\"([\\w ]*)(\\[edit\\])\", wiki)"
   ]
  },
  {
   "cell_type": "code",
   "execution_count": 86,
   "metadata": {},
   "outputs": [
    {
     "data": {
      "text/plain": [
       "<callable_iterator at 0x222f2959ca0>"
      ]
     },
     "execution_count": 86,
     "metadata": {},
     "output_type": "execute_result"
    }
   ],
   "source": [
    "re.finditer(\"([\\w ]*)(\\[edit\\])\", wiki)"
   ]
  },
  {
   "cell_type": "code",
   "execution_count": 87,
   "metadata": {},
   "outputs": [
    {
     "name": "stdout",
     "output_type": "stream",
     "text": [
      "('Overview', '[edit]')\n",
      "('Access to public records', '[edit]')\n",
      "('Student medical records', '[edit]')\n"
     ]
    }
   ],
   "source": [
    "# Nice - we see that the python re module breaks out the result by group. We can actually refer to groups by\n",
    "# number as well with the match objects that are returned. But, how do we get back a list of match objects?\n",
    "# Thus far we've seen that findall() returns strings, and search() and match() return individual Match\n",
    "# objects. But what do we do if we want a list of Match objects? In this case, we use the function finditer()\n",
    "for item in re.finditer(\"([\\w ]*)(\\[edit\\])\", wiki):\n",
    "    print(item.groups())"
   ]
  },
  {
   "cell_type": "code",
   "execution_count": 88,
   "metadata": {},
   "outputs": [
    {
     "name": "stdout",
     "output_type": "stream",
     "text": [
      "Overview\n",
      "Access to public records\n",
      "Student medical records\n"
     ]
    }
   ],
   "source": [
    "# We see here that the groups() method returns a tuple of the group. We can get an individual group using\n",
    "# group(number), where group(0) is the whole match, and each other number is the portion of the match we are\n",
    "# interested in. In this case, we want group(1)\n",
    "for item in re.finditer(\"([\\w ]*)(\\[edit\\])\", wiki):\n",
    "    print(item.group(1))"
   ]
  },
  {
   "cell_type": "code",
   "execution_count": 89,
   "metadata": {},
   "outputs": [
    {
     "name": "stdout",
     "output_type": "stream",
     "text": [
      "Overview\n",
      "Access to public records\n",
      "Student medical records\n"
     ]
    }
   ],
   "source": [
    "# One more piece to regex groups that I rarely use but is a good idea is labeling or naming groups. In the\n",
    "# previous example I showed you how you can use the position of the group. But giving them a label and looking\n",
    "# at the results as a dictionary is pretty useful. For that we use the syntax (?P<name>), where the parethesis\n",
    "# starts the group, the ?P indicates that this is an extension to basic regexes, and <name> is the dictionary\n",
    "# key we want to use wrapped in <>.\n",
    "for item in re.finditer(\"(?P<title>[\\w ]*)(?P<edit_link>\\[edit\\])\", wiki):\n",
    "    # We can get the dictionary returned for the item with .groupdict()\n",
    "    print(item.groupdict()['title'])"
   ]
  },
  {
   "cell_type": "code",
   "execution_count": 90,
   "metadata": {},
   "outputs": [
    {
     "name": "stdout",
     "output_type": "stream",
     "text": [
      "{'title': 'Student medical records', 'edit_link': '[edit]'}\n"
     ]
    }
   ],
   "source": [
    "# Of course, we can print out the whole dictionary for the item too, and see that the [edit] string is still\n",
    "# in there. Here's the dictionary kept for the last match\n",
    "print(item.groupdict())"
   ]
  },
  {
   "cell_type": "code",
   "execution_count": 91,
   "metadata": {},
   "outputs": [],
   "source": [
    "# Ok, we have seen how we can match individual character patterns with [], how we can group matches together\n",
    "# using (), and how we can use quantifiers such as *, ?, or m{n} to describe patterns. Something I glossed\n",
    "# over in the previous example was the \\w, which standards for any word character. There are a number of\n",
    "# short hands which are used with regexes for different kinds of characters, including:\n",
    "# a . for any single character which is not a newline\n",
    "# a \\d for any digit\n",
    "# and \\s for any whitespace character, like spaces and tabs\n",
    "# There are more, and a full list can be found in the python documentation for regexes"
   ]
  },
  {
   "cell_type": "markdown",
   "metadata": {},
   "source": [
    "# Look-ahead and Look-behind"
   ]
  },
  {
   "cell_type": "code",
   "execution_count": 92,
   "metadata": {},
   "outputs": [
    {
     "name": "stdout",
     "output_type": "stream",
     "text": [
      "<re.Match object; span=(0, 8), match='Overview'>\n",
      "<re.Match object; span=(2715, 2739), match='Access to public records'>\n",
      "<re.Match object; span=(3692, 3715), match='Student medical records'>\n"
     ]
    }
   ],
   "source": [
    "# One more concept to be familiar with is called \"look ahead\" and \"look behind\" matching. In this case, the\n",
    "# pattern being given to the regex engine is for text either before or after the text we are trying to\n",
    "# isolate. For example, in our headers we want to isolate text which  comes before the [edit] rendering, but\n",
    "# we actually don't care about the [edit] text itself. Thus far we have been throwing the [edit] away, but if\n",
    "# we want to use them to match but don't want to capture them we could put them in a group and use look ahead\n",
    "# instead with ?= syntax\n",
    "for item in re.finditer(\"(?P<title>[\\w ]+)(?=\\[edit\\])\", wiki):\n",
    "    # What this regex says is match two groups, the first will be named and called title, will have any amount\n",
    "    # of whitespace or regular word characters, the second will be the characters [edit] but we don't actually\n",
    "    # want this edit put in our output match objects\n",
    "    print(item)"
   ]
  },
  {
   "cell_type": "markdown",
   "metadata": {},
   "source": [
    "# Example: Wikipedia Data"
   ]
  },
  {
   "cell_type": "code",
   "execution_count": 93,
   "metadata": {},
   "outputs": [
    {
     "name": "stdout",
     "output_type": "stream",
     "text": [
      "Buddhist universities and colleges in the United States\n",
      "From Wikipedia, the free encyclopedia\n",
      "Jump to navigationJump to search\n",
      "\n",
      "This article needs additional citations for verification. Please help improve this article by adding citations to reliable sources. Unsourced material may be challenged and removed.\n",
      "Find sources: \"Buddhist universities and colleges in the United States\" – news · newspapers · books · scholar · JSTOR (December 2009) (Learn how and when to remove this template message)\n",
      "There are several Buddhist universities in the United States. Some of these have existed for decades and are accredited. Others are relatively new and are either in the process of being accredited or else have no formal accreditation. The list includes:\n",
      "\n",
      "Dhammakaya Open University – located in Azusa, California, part of the Thai Wat Phra Dhammakaya[1]\n",
      "Dharmakirti College – located in Tucson, Arizona Now called Awam Tibetan Buddhist Institute (http://awaminstitute.org/)\n",
      "Dharma Realm Buddhist University – located in Ukiah, California\n",
      "Ewam Buddhist Institute – located in Arlee, Montana\n",
      "Naropa University is located in Boulder, Colorado (Accredited by the Higher Learning Commission)\n",
      "Institute of Buddhist Studies – located in Berkeley, California\n",
      "Maitripa College – located in Portland, Oregon\n",
      "Soka University of America – located in Aliso Viejo, California\n",
      "University of the West – located in Rosemead, California\n",
      "Won Institute of Graduate Studies – located in Glenside, Pennsylvania\n",
      "References[edit]\n",
      "^ Banchanon, Phongphiphat (3 February 2015). รู้จัก \"เครือข่ายธรรมกาย\" [Getting to know the Dhammakaya network]. Forbes Thailand (in Thai). Retrieved 11 November 2016.\n",
      "External links[edit]\n",
      "List of Buddhist Universities and Colleges in the world\n",
      "\n"
     ]
    }
   ],
   "source": [
    "# Let's look at some more wikipedia data. Here's some data on universities in the US which are buddhist-based\n",
    "with open(\"datasets/buddhist.txt\", \"r\", encoding=\"utf8\") as file:\n",
    "    # we'll read that into a variable called wiki\n",
    "    wiki = file.read()\n",
    "# and lets print that variable out to the screen\n",
    "print(wiki)"
   ]
  },
  {
   "cell_type": "code",
   "execution_count": 94,
   "metadata": {},
   "outputs": [
    {
     "name": "stdout",
     "output_type": "stream",
     "text": [
      "{'title': 'Dhammakaya Open University ', 'city': 'Azusa', 'state': 'California'}\n",
      "{'title': 'Dharmakirti College ', 'city': 'Tucson', 'state': 'Arizona'}\n",
      "{'title': 'Dharma Realm Buddhist University ', 'city': 'Ukiah', 'state': 'California'}\n",
      "{'title': 'Ewam Buddhist Institute ', 'city': 'Arlee', 'state': 'Montana'}\n",
      "{'title': 'Institute of Buddhist Studies ', 'city': 'Berkeley', 'state': 'California'}\n",
      "{'title': 'Maitripa College ', 'city': 'Portland', 'state': 'Oregon'}\n",
      "{'title': 'University of the West ', 'city': 'Rosemead', 'state': 'California'}\n",
      "{'title': 'Won Institute of Graduate Studies ', 'city': 'Glenside', 'state': 'Pennsylvania'}\n"
     ]
    }
   ],
   "source": [
    "# We can see that each university follows a fairly similar pattern, with the name followed by an – then the\n",
    "# words \"located in\" followed by the city and state\n",
    "\n",
    "# I'll actually use this example to show you the verbose mode of python regexes. The verbose mode allows you\n",
    "# to write multi-line regexes and increases readability. For this mode, we have to explicitly indicate all\n",
    "# whitespace characters, either by prepending them with a \\ or by using the \\s special value. However, this\n",
    "# means we can write our regex a bit more like code, and can even include comments with #\n",
    "pattern =   \"\"\"\n",
    "                (?P<title>.*)        #the university title\n",
    "                (–\\ located\\ in\\ )   #an indicator of the location\n",
    "                (?P<city>\\w*)        #city the university is in\n",
    "                (,\\ )                #separator for the state\n",
    "                (?P<state>\\w*)       #the state the city is located in\n",
    "            \"\"\"\n",
    "\n",
    "# Now when we call finditer() we just pass the re.VERBOSE flag as the last parameter, this makes it much\n",
    "# easier to understand large regexes!\n",
    "for item in re.finditer(pattern, wiki, re.VERBOSE):\n",
    "    # We can get the dictionary returned for the item with .groupdict()\n",
    "    print(item.groupdict())"
   ]
  },
  {
   "cell_type": "markdown",
   "metadata": {},
   "source": [
    "# Example: New York Times and Hashtags"
   ]
  },
  {
   "cell_type": "code",
   "execution_count": 97,
   "metadata": {},
   "outputs": [
    {
     "name": "stdout",
     "output_type": "stream",
     "text": [
      "548662191340421120|Sat Dec 27 02:10:34 +0000 2014|Risks in Using Social Media to Spot Signs of Mental Distress http://nyti.ms/1rqi9I1\n",
      "548579831169163265|Fri Dec 26 20:43:18 +0000 2014|RT @paula_span: The most effective nationwide diabetes prevention program you've probably never heard of:  http://newoldage.blogs.nytimes.com/2014/12/26/diabetes-prevention-that-works/\n",
      "548579045269852161|Fri Dec 26 20:40:11 +0000 2014|The New Old Age Blog: Diabetes Prevention That Works http://nyti.ms/1xm7fTi\n",
      "548444679529041920|Fri Dec 26 11:46:15 +0000 2014|Well: Comfort Casseroles for Winter Dinners http://nyti.ms/1xTNoO0\n",
      "548311901227474944|Fri Dec 26 02:58:39 +0000 2014|High-Level Knowledge Before Veterans Affairs Scandal http://nyti.ms/13yCpvS\n",
      "548305625449787392|Fri Dec 26 02:33:42 +0000 2014|Your Money: Affordable Care Act’s Tax Effects Now Loom for Filers http://nyti.ms/13yAtUf\n",
      "548283182853160960|Fri Dec 26 01:04:32 +0000 2014|Well: Christmas in the Hospital http://nyti.ms/1vtPNcm\n",
      "548278414504108033|Fri Dec 26 00:45:35 +0000 2014|The Texas Tribune: For Members of Health Ministries in Texas, Caring Means Sharing the Bills http://nyti.ms/1wLtAen\n",
      "548176399299649536|Thu Dec 25 18:00:12 +0000 2014|A q&amp;a with Laura Hillenbrand, author of \"Unbroken,\" who suffers from chronic fatigue syndrome. http://bit.ly/1ziCflj\n",
      "547949409288609792|Thu Dec 25 02:58:14 +0000 2014|Race to Deliver Nicotine’s Punch, With Less Risk  http://nyti.ms/1xNzyg4\n",
      "547904193961656321|Wed Dec 24 23:58:34 +0000 2014|The New Health Care: People Are Shopping for Health Insurance, Surprisingly http://nyti.ms/1vpIjqE\n",
      "547904193001185280|Wed Dec 24 23:58:33 +0000 2014|Machine Learning: Bedtime Technology for a Better Night’s Sleep http://nyti.ms/16RCgpE\n",
      "547872136304394242|Wed Dec 24 21:51:10 +0000 2014|Breaking: Lab Error May Have Exposed U.S. Technician to Ebola Virus http://nyti.ms/1ziIYf6\n",
      "547870756592300034|Wed Dec 24 21:45:41 +0000 2014|C.D.C. Ebola Error in Lab May Have Exposed Technician to Virus http://nyti.ms/1CDkLqc\n",
      "547870381160140800|Wed Dec 24 21:44:12 +0000 2014|RT @nytimes: Breaking News: Lab Error May Have Exposed U.S. Technician to Ebola Virus http://nyti.ms/1B2ThGD\n",
      "547802935141232642|Wed Dec 24 17:16:12 +0000 2014|A q&amp;a with Laura Hillenbrand, author of \"Unbroken,\" who suffers from chronic fatigue syndrome. http://nyti.ms/1B5PO9Q\n",
      "547765704829964289|Wed Dec 24 14:48:15 +0000 2014|RT @cslnyt: Virus That Killed a Kansas Farmer is identified @CDCgov  @nytDeniseGrady  http://www.nytimes.com/2014/12/24/science/mysterious-virus-that-killed-a-farmer-in-kansas-is-identified.html?smid=nytcore-iphone-share&smprod=nytcore-iphone\n",
      "547624914531127296|Wed Dec 24 05:28:48 +0000 2014|Well: Exercise to Lose Weight? Stay Warm http://nyti.ms/1Hz7Pj2\n",
      "547599936452583427|Wed Dec 24 03:49:33 +0000 2014|Business Briefing: Diabetes Drug Gains Approval for Treatment of Obesity http://nyti.ms/1ta9nPw\n",
      "547599935517241344|Wed Dec 24 03:49:33 +0000 2014|So Far, 6.4 Million Obtain Health Care Coverage for 2015 in Federal Marketplace http://nyti.ms/1vaJ1ad\n",
      "547595227197087745|Wed Dec 24 03:30:50 +0000 2014|DealBook: Inquiry Into Foreign Bribes at Biomet Hangs Over $13 Billion Merger http://nyti.ms/1vaHQYn\n",
      "547595226215632896|Wed Dec 24 03:30:50 +0000 2014|Firing of V.A. Clinic Chief Is Upheld Over Gifts, Not Wait Lists http://nyti.ms/1ta9nPu\n",
      "547576403836035072|Wed Dec 24 02:16:02 +0000 2014|World Briefing: Ireland: Doctors Seek to Remove Pregnant Woman From Life Support http://nyti.ms/13uMfPo\n",
      "547562964153536512|Wed Dec 24 01:22:38 +0000 2014|Plastic Surgery Tourism Brings Chinese to South Korea  http://nyti.ms/1wDB6Yq\n",
      "547561821373075456|Wed Dec 24 01:18:06 +0000 2014|Looking for a better night's sleep? Put down that e-book and read a paperback instead. http://nyti.ms/1whtwhd\n",
      "547559173974921218|Wed Dec 24 01:07:34 +0000 2014|Mysterious Virus That Killed a Farmer in Kansas Is Identified http://nyti.ms/1AZ0qaL\n",
      "547515883518980096|Tue Dec 23 22:15:33 +0000 2014|Well: Pain Relievers Tied to Reduced Skin Cancer Risk http://nyti.ms/13ukGpr\n",
      "547501217086062592|Tue Dec 23 21:17:16 +0000 2014|The best gift? The humble gift card. http://nyti.ms/1A1pDmz\n",
      "547500871689711616|Tue Dec 23 21:15:54 +0000 2014|What do most people say they want for a gift? http://pbs.twimg.com/media/B5kdIQXCQAAtcgA.jpg\n",
      "547460287289634822|Tue Dec 23 18:34:38 +0000 2014|F.D.A. Lifting Ban on Gay Blood Donors http://nyti.ms/16NAVjH\n",
      "547459549360574466|Tue Dec 23 18:31:42 +0000 2014|F.D.A. to Lift Lifetime Ban on Blood Donation by Gay Men http://nyti.ms/1A12TTG\n",
      "547440575545614336|Tue Dec 23 17:16:18 +0000 2014|Well: Think You Found the Perfect Gift? Think Again http://nyti.ms/13B6Amt\n",
      "547410904414167040|Tue Dec 23 15:18:24 +0000 2014|RT @nytDeniseGrady: C.D.C. Head Says Fight on Ebola Will Be Long http://nyti.ms/1vhYN4g\n",
      "547232205605707776|Tue Dec 23 03:28:19 +0000 2014|Gunman May Have Used Garner and Brown Cases to Justify Police Killings, Experts Say http://nyti.ms/1ATCm9m\n",
      "547227742849470464|Tue Dec 23 03:10:35 +0000 2014|U.S. Court Strikes Down North Carolina Ultrasound Abortion Law http://nyti.ms/1xcoPMu\n",
      "547227741960278016|Tue Dec 23 03:10:35 +0000 2014|Group Sues Aetna, Claiming Discrimination Against H.I.V. Patients http://nyti.ms/1ATxhOj\n",
      "547223894130978817|Tue Dec 23 02:55:17 +0000 2014|Obama Administration to Investigate Insurers for Bias Against Costly Conditions http://nyti.ms/1xcnYeX\n",
      "547184000411127808|Tue Dec 23 00:16:46 +0000 2014|C.D.C. Head Says Fight on Ebola Will Be Long http://nyti.ms/1CxIFR9\n",
      "547179177829756929|Mon Dec 22 23:57:36 +0000 2014|Op-Ed Contributors: Sugar Season. It’s Everywhere, and Addictive http://nyti.ms/16KEwPg\n",
      "547144384672976896|Mon Dec 22 21:39:21 +0000 2014|Letters: Flavors From the Past  http://nyti.ms/1HruX2S\n",
      "547140214125506560|Mon Dec 22 21:22:47 +0000 2014|Global Health: For Heroin Users, Less May Be Worse for H.I.V.  http://nyti.ms/1AAlJB2\n",
      "547130056959860736|Mon Dec 22 20:42:25 +0000 2014|Q&amp;A:  The Danger of Going Off Course http://nyti.ms/13WclvS\n",
      "547129518683475968|Mon Dec 22 20:40:17 +0000 2014|Video: Is farmed fish better than no fish at all?  #askwell http://nyti.ms/1weXRwR\n",
      "547125616592834562|Mon Dec 22 20:24:46 +0000 2014|Well: Living With Cancer: Playing the C Card http://nyti.ms/1wf4rTY\n",
      "547125615531671552|Mon Dec 22 20:24:46 +0000 2014|Patterns: How E-books May Disrupt Your Sleep http://nyti.ms/13W9Sl1\n",
      "547121243460481024|Mon Dec 22 20:07:24 +0000 2014|Books: Gabriele Oettingen Turns Her Mind to Motivation in ‘Rethinking Positive Thinking’ http://nyti.ms/13W60QY\n",
      "547061476650139648|Mon Dec 22 16:09:54 +0000 2014|RT @celiadugger: Competition seems to driving down the exorbitant cost of hep c drugs after all. http://nyti.ms/1E10oon\n",
      "547058681599520769|Mon Dec 22 15:58:48 +0000 2014|Personal Health: Why Cafeteria Food Is the Best http://nyti.ms/1zVQnou\n",
      "546894013090263040|Mon Dec 22 05:04:28 +0000 2014|Pharmacy Deal Heralds Changed Landscape for Hepatitis Drugs http://nyti.ms/1wd8nEK\n",
      "546525411623337984|Sun Dec 21 04:39:46 +0000 2014|Military Medicine: Military Hospital Care Is Questioned; Next, Reprisals http://nyti.ms/16Eu0co\n",
      "546389588973854720|Sat Dec 20 19:40:04 +0000 2014|Dispatch: Ebola Should Be Easy to Treat http://nyti.ms/1xyIZQn\n",
      "546141844288331777|Sat Dec 20 03:15:37 +0000 2014|Pain Clinic Doctor Is Sentenced In Overdose Deaths of 2 Patients  http://nyti.ms/1v9WeB3\n",
      "546141843432685568|Sat Dec 20 03:15:36 +0000 2014|Hepatitis C Treatment Wins Approval, but Price Relief May Be Limited http://nyti.ms/1ww5GTT\n",
      "546021777076666369|Fri Dec 19 19:18:30 +0000 2014|Well: For Hanukkah, Cooking With Oil http://nyti.ms/1zdlfC2\n",
      "545990925915545600|Fri Dec 19 17:15:55 +0000 2014|The New Old Age Blog: Dementia, but Prettier http://nyti.ms/1zcVIJ6\n",
      "545805323463065600|Fri Dec 19 04:58:24 +0000 2014|Lee W. Wattenberg, Who Saw Cancer Fighters in Foods, Dies at 92 http://nyti.ms/13FV3mD\n",
      "545796300055531520|Fri Dec 19 04:22:32 +0000 2014|Liberia Will Proceed With Senate Vote Delayed by Ebola  http://nyti.ms/1v6aOJQ\n",
      "545749330033143808|Fri Dec 19 01:15:54 +0000 2014|World Briefing: Obesity May Be a Disability, Court Says http://nyti.ms/13iF90F\n",
      "545654369715503104|Thu Dec 18 18:58:34 +0000 2014|Well: Weight Gain During Pregnancy Is Especially Good for Boys http://nyti.ms/1AwfGLZ\n",
      "545654368801148928|Thu Dec 18 18:58:33 +0000 2014|Well: Ask Well: Wild Fish vs. Farmed Fish http://nyti.ms/1C3N6Wp\n",
      "545621096255729665|Thu Dec 18 16:46:21 +0000 2014|Medical Paradox: Can Cuba Escape Poverty but Stay Healthy? http://nyti.ms/1r34s1u\n",
      "545443639825293313|Thu Dec 18 05:01:12 +0000 2014|World Briefing: Agencies Warn of Hunger in Ebola Zone http://nyti.ms/1GSGc4f\n",
      "545413335353933824|Thu Dec 18 03:00:47 +0000 2014|Citing Health Risks, Cuomo to Ban Fracking in New York State http://nyti.ms/13dIvlp\n",
      "545407394747265024|Thu Dec 18 02:37:10 +0000 2014|For That Door-to-Treadmill Service http://nyti.ms/13dDyJe\n",
      "545308477292560384|Wed Dec 17 20:04:06 +0000 2014|Well: Belly Fat Tied to Sudden Cardiac Death http://nyti.ms/1AIfysB\n",
      "545288768371310592|Wed Dec 17 18:45:48 +0000 2014|The New Old Age Blog: Questionable Remedies for Eye Disease http://nyti.ms/1zwwjrx\n",
      "545255659881914368|Wed Dec 17 16:34:14 +0000 2014|Go for a run, hop on a bike or jump in that pool -- and change your DNA. http://nyti.ms/1yYzbdP\n",
      "545253503963516928|Wed Dec 17 16:25:40 +0000 2014|Massachusetts Pharmacy Owners Arrested in Meningitis Deaths http://nyti.ms/1zw5d3G\n",
      "545235402156937217|Wed Dec 17 15:13:44 +0000 2014|For First Time, Treatment Helps Patients With Worst Kind of Stroke, Study Says http://nyti.ms/1zvSJsN\n",
      "545086317659717632|Wed Dec 17 05:21:20 +0000 2014|Well: How Exercise Changes Our DNA http://nyti.ms/1wXOPey\n",
      "545074589374881792|Wed Dec 17 04:34:43 +0000 2014|National Briefing | New England: Massachusetts: Sex-Change Surgery Denied to Inmate http://nyti.ms/13aAYn0\n",
      "545070455196250113|Wed Dec 17 04:18:18 +0000 2014|Federal Health Exchange Sees Enrollment Flurry http://nyti.ms/1zpVLju\n",
      "545070454038614016|Wed Dec 17 04:18:17 +0000 2014|Vivek Murthy, the New Su\n"
     ]
    }
   ],
   "source": [
    "# Here's another example from the New York Times which covers health tweets on news items. This data came from\n",
    "# the UC Irvine Machine Learning Repository which is a great source of different kinds of data\n",
    "with open(\"datasets/nytimeshealth.txt\", \"r\", encoding=\"utf8\") as file:\n",
    "    # We'll read everything into a variable and take a look at it\n",
    "    health = file.read()\n",
    "print(health[:10000])"
   ]
  },
  {
   "cell_type": "code",
   "execution_count": 56,
   "metadata": {},
   "outputs": [
    {
     "data": {
      "text/plain": [
       "['#askwell',\n",
       " '#pregnancy',\n",
       " '#Colorado',\n",
       " '#VegetarianThanksgiving',\n",
       " '#FallPrevention',\n",
       " '#Ebola',\n",
       " '#Ebola',\n",
       " '#ebola',\n",
       " '#Ebola',\n",
       " '#Ebola',\n",
       " '#EbolaHysteria',\n",
       " '#AskNYT',\n",
       " '#Ebola',\n",
       " '#Ebola',\n",
       " '#Liberia',\n",
       " '#Excalibur',\n",
       " '#ebola',\n",
       " '#Ebola',\n",
       " '#dallas',\n",
       " '#nobelprize2014',\n",
       " '#ebola',\n",
       " '#ebola',\n",
       " '#monrovia',\n",
       " '#ebola',\n",
       " '#nobelprize2014',\n",
       " '#ebola',\n",
       " '#nobelprize2014',\n",
       " '#Medicine',\n",
       " '#Ebola',\n",
       " '#Monrovia',\n",
       " '#Ebola',\n",
       " '#smell',\n",
       " '#Ebola',\n",
       " '#Ebola',\n",
       " '#Ebola',\n",
       " '#Monrovia',\n",
       " '#Ebola',\n",
       " '#ebola',\n",
       " '#monrovia',\n",
       " '#liberia',\n",
       " '#benzos',\n",
       " '#ClimateChange',\n",
       " '#Whole',\n",
       " '#Wheat',\n",
       " '#Focaccia',\n",
       " '#Tomatoes',\n",
       " '#Olives',\n",
       " '#Recipes',\n",
       " '#Health',\n",
       " '#Ebola',\n",
       " '#Monrovia',\n",
       " '#Liberia',\n",
       " '#Ebola',\n",
       " '#Ebola',\n",
       " '#Liberia',\n",
       " '#Ebola',\n",
       " '#blood',\n",
       " '#Ebola',\n",
       " '#organtrafficking',\n",
       " '#EbolaOutbreak',\n",
       " '#SierraLeone',\n",
       " '#Freetown',\n",
       " '#SierraLeone',\n",
       " '#ebolaoutbreak',\n",
       " '#kenema',\n",
       " '#ebola',\n",
       " '#Ebola',\n",
       " '#ebola',\n",
       " '#ebola',\n",
       " '#Ebola',\n",
       " '#ASMR',\n",
       " '#AIDS2014',\n",
       " '#AIDS',\n",
       " '#MH17',\n",
       " '#benzos']"
      ]
     },
     "execution_count": 56,
     "metadata": {},
     "output_type": "execute_result"
    }
   ],
   "source": [
    "# So here we can see there are tweets with fields separated by pipes |. Lets try and get a list of all of the\n",
    "# hashtags that are included in this data. A hashtag begins with a pound sign (or hash mark) and continues\n",
    "# until some whitespace is found\n",
    "\n",
    "# So lets create a pattern. We want to include the hash sign first, then any number of alphanumeric\n",
    "# characters. And we end when we see some whitespace\n",
    "pattern = '#[\\w\\d]*(?=\\s)'\n",
    "\n",
    "# Notice that the ending is a look ahead. We're not actually interested in matching whitespace in the return\n",
    "# value. Also notice that I use an asterix * instead of the plus + for the matching of alphabetical characters\n",
    "# or digits, because a + would require at least one of each\n",
    "\n",
    "# Lets searchg and display all of the hashtags\n",
    "re.findall(pattern, health)"
   ]
  },
  {
   "cell_type": "code",
   "execution_count": 57,
   "metadata": {},
   "outputs": [],
   "source": [
    "# We can see here that there were lots of ebola related tweeks in this particular dataset."
   ]
  },
  {
   "cell_type": "markdown",
   "metadata": {},
   "source": [
    "This lecture has been an overview of regular expressions, and really, we've just scratched the surface of what \n",
    "you can do. Now, I actually find regex's really frustrating - they're incredibly powerful, but if you don't\n",
    "use them for awhile you're left grasping for memory of some of the details, especially named groups and look\n",
    "ahead searches. But, there are lots of great examples and reference guides on the web, including the python\n",
    "documentation for regex, and with these in hand you should be able to write concise and readable code which\n",
    "performs well too. Having basic regex literacy is a core skill for applied data scientists. "
   ]
  }
 ],
 "metadata": {
  "kernelspec": {
   "display_name": "Python 3.9.12 ('base')",
   "language": "python",
   "name": "python3"
  },
  "language_info": {
   "codemirror_mode": {
    "name": "ipython",
    "version": 3
   },
   "file_extension": ".py",
   "mimetype": "text/x-python",
   "name": "python",
   "nbconvert_exporter": "python",
   "pygments_lexer": "ipython3",
   "version": "3.9.12"
  },
  "vscode": {
   "interpreter": {
    "hash": "3cfd106f785ae1e288da74ae733f9b47f8a2699db986927140be0bc196406f4c"
   }
  }
 },
 "nbformat": 4,
 "nbformat_minor": 2
}
