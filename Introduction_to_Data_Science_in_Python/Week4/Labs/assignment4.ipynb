{
 "cells": [
  {
   "cell_type": "markdown",
   "metadata": {
    "deletable": false,
    "editable": false,
    "nbgrader": {
     "checksum": "48770f8b5f5d3062d3badd51fcafc401",
     "grade": false,
     "grade_id": "cell-a6c4f74309fc2379",
     "locked": true,
     "schema_version": 1,
     "solution": false
    }
   },
   "source": [
    "# Assignment 4\n",
    "## Description\n",
    "In this assignment you must read in a file of metropolitan regions and associated sports teams from [assets/wikipedia_data.html](assets/wikipedia_data.html) and answer some questions about each metropolitan region. Each of these regions may have one or more teams from the \"Big 4\": NFL (football, in [assets/nfl.csv](assets/nfl.csv)), MLB (baseball, in [assets/mlb.csv](assets/mlb.csv)), NBA (basketball, in [assets/nba.csv](assets/nba.csv) or NHL (hockey, in [assets/nhl.csv](assets/nhl.csv)). Please keep in mind that all questions are from the perspective of the metropolitan region, and that this file is the \"source of authority\" for the location of a given sports team. Thus teams which are commonly known by a different area (e.g. \"Oakland Raiders\") need to be mapped into the metropolitan region given (e.g. San Francisco Bay Area). This will require some human data understanding outside of the data you've been given (e.g. you will have to hand-code some names, and might need to google to find out where teams are)!\n",
    "\n",
    "For each sport I would like you to answer the question: **what is the win/loss ratio's correlation with the population of the city it is in?** Win/Loss ratio refers to the number of wins over the number of wins plus the number of losses. Remember that to calculate the correlation with [`pearsonr`](https://docs.scipy.org/doc/scipy/reference/generated/scipy.stats.pearsonr.html), so you are going to send in two ordered lists of values, the populations from the wikipedia_data.html file and the win/loss ratio for a given sport in the same order. Average the win/loss ratios for those cities which have multiple teams of a single sport. Each sport is worth an equal amount in this assignment (20%\\*4=80%) of the grade for this assignment. You should only use data **from year 2018** for your analysis -- this is important!\n",
    "\n",
    "## Notes\n",
    "\n",
    "1. Do not include data about the MLS or CFL in any of the work you are doing, we're only interested in the Big 4 in this assignment.\n",
    "2. I highly suggest that you first tackle the four correlation questions in order, as they are all similar and worth the majority of grades for this assignment. This is by design!\n",
    "3. It's fair game to talk with peers about high level strategy as well as the relationship between metropolitan areas and sports teams. However, do not post code solving aspects of the assignment (including such as dictionaries mapping areas to teams, or regexes which will clean up names).\n",
    "4. There may be more teams than the assert statements test, remember to collapse multiple teams in one city into a single value!"
   ]
  },
  {
   "cell_type": "markdown",
   "metadata": {
    "deletable": false,
    "editable": false,
    "nbgrader": {
     "checksum": "369ff9ecf0ee04640574205cbc697f94",
     "grade": false,
     "grade_id": "cell-712b2b5da63d4505",
     "locked": true,
     "schema_version": 1,
     "solution": false
    }
   },
   "source": [
    "## Question 1\n",
    "For this question, calculate the win/loss ratio's correlation with the population of the city it is in for the **NHL** using **2018** data."
   ]
  },
  {
   "cell_type": "code",
   "execution_count": 2,
   "metadata": {
    "deletable": false,
    "nbgrader": {
     "checksum": "1cac4803b02502929f5b1612d48db2b5",
     "grade": false,
     "grade_id": "cell-69b16e4386e58030",
     "locked": false,
     "schema_version": 1,
     "solution": true
    }
   },
   "outputs": [],
   "source": [
    "import pandas as pd\n",
    "import numpy as np\n",
    "import scipy.stats as stats\n",
    "import re\n",
    "\n",
    "nhl_df = pd.read_csv(\"assets/nhl.csv\")\n",
    "cities = pd.read_html(\"assets/wikipedia_data.html\")[1]\n",
    "cities = cities.iloc[:-1, [0, 3, 5, 6, 7, 8]]"
   ]
  },
  {
   "cell_type": "code",
   "execution_count": 3,
   "metadata": {},
   "outputs": [
    {
     "data": {
      "text/html": [
       "<div>\n",
       "<style scoped>\n",
       "    .dataframe tbody tr th:only-of-type {\n",
       "        vertical-align: middle;\n",
       "    }\n",
       "\n",
       "    .dataframe tbody tr th {\n",
       "        vertical-align: top;\n",
       "    }\n",
       "\n",
       "    .dataframe thead th {\n",
       "        text-align: right;\n",
       "    }\n",
       "</style>\n",
       "<table border=\"1\" class=\"dataframe\">\n",
       "  <thead>\n",
       "    <tr style=\"text-align: right;\">\n",
       "      <th></th>\n",
       "      <th>team</th>\n",
       "      <th>GP</th>\n",
       "      <th>W</th>\n",
       "      <th>L</th>\n",
       "      <th>OL</th>\n",
       "      <th>PTS</th>\n",
       "      <th>PTS%</th>\n",
       "      <th>GF</th>\n",
       "      <th>GA</th>\n",
       "      <th>SRS</th>\n",
       "      <th>SOS</th>\n",
       "      <th>RPt%</th>\n",
       "      <th>ROW</th>\n",
       "      <th>year</th>\n",
       "      <th>League</th>\n",
       "    </tr>\n",
       "  </thead>\n",
       "  <tbody>\n",
       "    <tr>\n",
       "      <th>0</th>\n",
       "      <td>Atlantic Division</td>\n",
       "      <td>Atlantic Division</td>\n",
       "      <td>Atlantic Division</td>\n",
       "      <td>Atlantic Division</td>\n",
       "      <td>Atlantic Division</td>\n",
       "      <td>Atlantic Division</td>\n",
       "      <td>Atlantic Division</td>\n",
       "      <td>Atlantic Division</td>\n",
       "      <td>Atlantic Division</td>\n",
       "      <td>Atlantic Division</td>\n",
       "      <td>Atlantic Division</td>\n",
       "      <td>Atlantic Division</td>\n",
       "      <td>Atlantic Division</td>\n",
       "      <td>2018</td>\n",
       "      <td>NHL</td>\n",
       "    </tr>\n",
       "    <tr>\n",
       "      <th>1</th>\n",
       "      <td>Tampa Bay Lightning*</td>\n",
       "      <td>82</td>\n",
       "      <td>54</td>\n",
       "      <td>23</td>\n",
       "      <td>5</td>\n",
       "      <td>113</td>\n",
       "      <td>.689</td>\n",
       "      <td>296</td>\n",
       "      <td>236</td>\n",
       "      <td>0.66</td>\n",
       "      <td>-0.07</td>\n",
       "      <td>.634</td>\n",
       "      <td>48</td>\n",
       "      <td>2018</td>\n",
       "      <td>NHL</td>\n",
       "    </tr>\n",
       "    <tr>\n",
       "      <th>2</th>\n",
       "      <td>Boston Bruins*</td>\n",
       "      <td>82</td>\n",
       "      <td>50</td>\n",
       "      <td>20</td>\n",
       "      <td>12</td>\n",
       "      <td>112</td>\n",
       "      <td>.683</td>\n",
       "      <td>270</td>\n",
       "      <td>214</td>\n",
       "      <td>0.62</td>\n",
       "      <td>-0.07</td>\n",
       "      <td>.610</td>\n",
       "      <td>47</td>\n",
       "      <td>2018</td>\n",
       "      <td>NHL</td>\n",
       "    </tr>\n",
       "    <tr>\n",
       "      <th>3</th>\n",
       "      <td>Toronto Maple Leafs*</td>\n",
       "      <td>82</td>\n",
       "      <td>49</td>\n",
       "      <td>26</td>\n",
       "      <td>7</td>\n",
       "      <td>105</td>\n",
       "      <td>.640</td>\n",
       "      <td>277</td>\n",
       "      <td>232</td>\n",
       "      <td>0.49</td>\n",
       "      <td>-0.06</td>\n",
       "      <td>.567</td>\n",
       "      <td>42</td>\n",
       "      <td>2018</td>\n",
       "      <td>NHL</td>\n",
       "    </tr>\n",
       "    <tr>\n",
       "      <th>4</th>\n",
       "      <td>Florida Panthers</td>\n",
       "      <td>82</td>\n",
       "      <td>44</td>\n",
       "      <td>30</td>\n",
       "      <td>8</td>\n",
       "      <td>96</td>\n",
       "      <td>.585</td>\n",
       "      <td>248</td>\n",
       "      <td>246</td>\n",
       "      <td>-0.01</td>\n",
       "      <td>-0.04</td>\n",
       "      <td>.537</td>\n",
       "      <td>41</td>\n",
       "      <td>2018</td>\n",
       "      <td>NHL</td>\n",
       "    </tr>\n",
       "  </tbody>\n",
       "</table>\n",
       "</div>"
      ],
      "text/plain": [
       "                   team                 GP                  W  \\\n",
       "0     Atlantic Division  Atlantic Division  Atlantic Division   \n",
       "1  Tampa Bay Lightning*                 82                 54   \n",
       "2        Boston Bruins*                 82                 50   \n",
       "3  Toronto Maple Leafs*                 82                 49   \n",
       "4      Florida Panthers                 82                 44   \n",
       "\n",
       "                   L                 OL                PTS               PTS%  \\\n",
       "0  Atlantic Division  Atlantic Division  Atlantic Division  Atlantic Division   \n",
       "1                 23                  5                113               .689   \n",
       "2                 20                 12                112               .683   \n",
       "3                 26                  7                105               .640   \n",
       "4                 30                  8                 96               .585   \n",
       "\n",
       "                  GF                 GA                SRS                SOS  \\\n",
       "0  Atlantic Division  Atlantic Division  Atlantic Division  Atlantic Division   \n",
       "1                296                236               0.66              -0.07   \n",
       "2                270                214               0.62              -0.07   \n",
       "3                277                232               0.49              -0.06   \n",
       "4                248                246              -0.01              -0.04   \n",
       "\n",
       "                RPt%                ROW  year League  \n",
       "0  Atlantic Division  Atlantic Division  2018    NHL  \n",
       "1               .634                 48  2018    NHL  \n",
       "2               .610                 47  2018    NHL  \n",
       "3               .567                 42  2018    NHL  \n",
       "4               .537                 41  2018    NHL  "
      ]
     },
     "execution_count": 3,
     "metadata": {},
     "output_type": "execute_result"
    }
   ],
   "source": [
    "nhl_df.head()"
   ]
  },
  {
   "cell_type": "code",
   "execution_count": 4,
   "metadata": {},
   "outputs": [
    {
     "name": "stdout",
     "output_type": "stream",
     "text": [
      "<class 'pandas.core.frame.DataFrame'>\n",
      "RangeIndex: 171 entries, 0 to 170\n",
      "Data columns (total 15 columns):\n",
      " #   Column  Non-Null Count  Dtype \n",
      "---  ------  --------------  ----- \n",
      " 0   team    171 non-null    object\n",
      " 1   GP      171 non-null    object\n",
      " 2   W       171 non-null    object\n",
      " 3   L       171 non-null    object\n",
      " 4   OL      171 non-null    object\n",
      " 5   PTS     171 non-null    object\n",
      " 6   PTS%    171 non-null    object\n",
      " 7   GF      171 non-null    object\n",
      " 8   GA      171 non-null    object\n",
      " 9   SRS     171 non-null    object\n",
      " 10  SOS     171 non-null    object\n",
      " 11  RPt%    171 non-null    object\n",
      " 12  ROW     171 non-null    object\n",
      " 13  year    171 non-null    int64 \n",
      " 14  League  171 non-null    object\n",
      "dtypes: int64(1), object(14)\n",
      "memory usage: 20.2+ KB\n"
     ]
    }
   ],
   "source": [
    "nhl_df.info()"
   ]
  },
  {
   "cell_type": "code",
   "execution_count": 5,
   "metadata": {},
   "outputs": [
    {
     "data": {
      "text/html": [
       "<div>\n",
       "<style scoped>\n",
       "    .dataframe tbody tr th:only-of-type {\n",
       "        vertical-align: middle;\n",
       "    }\n",
       "\n",
       "    .dataframe tbody tr th {\n",
       "        vertical-align: top;\n",
       "    }\n",
       "\n",
       "    .dataframe thead th {\n",
       "        text-align: right;\n",
       "    }\n",
       "</style>\n",
       "<table border=\"1\" class=\"dataframe\">\n",
       "  <thead>\n",
       "    <tr style=\"text-align: right;\">\n",
       "      <th></th>\n",
       "      <th>Metropolitan area</th>\n",
       "      <th>Population (2016 est.)[8]</th>\n",
       "      <th>NFL</th>\n",
       "      <th>MLB</th>\n",
       "      <th>NBA</th>\n",
       "      <th>NHL</th>\n",
       "    </tr>\n",
       "  </thead>\n",
       "  <tbody>\n",
       "    <tr>\n",
       "      <th>0</th>\n",
       "      <td>New York City</td>\n",
       "      <td>20153634</td>\n",
       "      <td>GiantsJets[note 1]</td>\n",
       "      <td>YankeesMets[note 2]</td>\n",
       "      <td>KnicksNets</td>\n",
       "      <td>RangersIslandersDevils[note 3]</td>\n",
       "    </tr>\n",
       "    <tr>\n",
       "      <th>1</th>\n",
       "      <td>Los Angeles</td>\n",
       "      <td>13310447</td>\n",
       "      <td>RamsChargers[note 4]</td>\n",
       "      <td>DodgersAngels</td>\n",
       "      <td>LakersClippers</td>\n",
       "      <td>KingsDucks</td>\n",
       "    </tr>\n",
       "    <tr>\n",
       "      <th>2</th>\n",
       "      <td>San Francisco Bay Area</td>\n",
       "      <td>6657982</td>\n",
       "      <td>49ersRaiders[note 6]</td>\n",
       "      <td>GiantsAthletics</td>\n",
       "      <td>Warriors</td>\n",
       "      <td>Sharks[note 7]</td>\n",
       "    </tr>\n",
       "    <tr>\n",
       "      <th>3</th>\n",
       "      <td>Chicago</td>\n",
       "      <td>9512999</td>\n",
       "      <td>Bears[note 8]</td>\n",
       "      <td>CubsWhite Sox</td>\n",
       "      <td>Bulls[note 9]</td>\n",
       "      <td>Blackhawks</td>\n",
       "    </tr>\n",
       "    <tr>\n",
       "      <th>4</th>\n",
       "      <td>Dallas–Fort Worth</td>\n",
       "      <td>7233323</td>\n",
       "      <td>Cowboys</td>\n",
       "      <td>Rangers</td>\n",
       "      <td>Mavericks</td>\n",
       "      <td>Stars</td>\n",
       "    </tr>\n",
       "  </tbody>\n",
       "</table>\n",
       "</div>"
      ],
      "text/plain": [
       "        Metropolitan area Population (2016 est.)[8]                   NFL  \\\n",
       "0           New York City                  20153634    GiantsJets[note 1]   \n",
       "1             Los Angeles                  13310447  RamsChargers[note 4]   \n",
       "2  San Francisco Bay Area                   6657982  49ersRaiders[note 6]   \n",
       "3                 Chicago                   9512999         Bears[note 8]   \n",
       "4       Dallas–Fort Worth                   7233323               Cowboys   \n",
       "\n",
       "                   MLB             NBA                             NHL  \n",
       "0  YankeesMets[note 2]      KnicksNets  RangersIslandersDevils[note 3]  \n",
       "1        DodgersAngels  LakersClippers                      KingsDucks  \n",
       "2      GiantsAthletics        Warriors                  Sharks[note 7]  \n",
       "3        CubsWhite Sox   Bulls[note 9]                      Blackhawks  \n",
       "4              Rangers       Mavericks                           Stars  "
      ]
     },
     "execution_count": 5,
     "metadata": {},
     "output_type": "execute_result"
    }
   ],
   "source": [
    "cities.head()"
   ]
  },
  {
   "cell_type": "code",
   "execution_count": 6,
   "metadata": {},
   "outputs": [
    {
     "name": "stdout",
     "output_type": "stream",
     "text": [
      "<class 'pandas.core.frame.DataFrame'>\n",
      "RangeIndex: 51 entries, 0 to 50\n",
      "Data columns (total 6 columns):\n",
      " #   Column                     Non-Null Count  Dtype \n",
      "---  ------                     --------------  ----- \n",
      " 0   Metropolitan area          51 non-null     object\n",
      " 1   Population (2016 est.)[8]  51 non-null     object\n",
      " 2   NFL                        51 non-null     object\n",
      " 3   MLB                        51 non-null     object\n",
      " 4   NBA                        51 non-null     object\n",
      " 5   NHL                        51 non-null     object\n",
      "dtypes: object(6)\n",
      "memory usage: 2.5+ KB\n"
     ]
    }
   ],
   "source": [
    "cities.info()"
   ]
  },
  {
   "cell_type": "code",
   "execution_count": 9,
   "metadata": {},
   "outputs": [],
   "source": [
    "def clean_nhl_df():\n",
    "    # Load data\n",
    "    nhl_df = pd.read_csv(\"assets/nhl.csv\")\n",
    "    cities = pd.read_html(\"assets/wikipedia_data.html\")[1]\n",
    "    cities = cities.iloc[:-1, [0, 3, 5, 6, 7, 8]]\n",
    "\n",
    "    # Cleaning the cities dataframe\n",
    "    cities[\"NHL\"] = cities[\"NHL\"].apply(lambda x: re.sub(r\"\\[.+\\]\", \"\", x))\n",
    "    cities[\"NHL\"] = cities[\"NHL\"].replace({\"RangersIslandersDevils\": \"Rangers,Islanders,Devils\",\n",
    "                                           \"KingsDucks\": \"Kings,Ducks\",\n",
    "                                           \"Red Wings\": \"Red,Wings\", \n",
    "                                           \"Maple Leafs\": \"Maple,Leafs\", \n",
    "                                           \"Blue Jackets\": \"Blue,Jackets\",\n",
    "                                           \"Golden Knights\": \"Golden,Knights\" })\n",
    "    cities[\"NHL\"] = cities[\"NHL\"].apply(lambda x: x.split(\",\"))\n",
    "    cities = cities.explode(\"NHL\")\n",
    "\n",
    "    # Cleaning the nhl_df dataframe\n",
    "    nhl_df = nhl_df[nhl_df[\"year\"] == 2018]\n",
    "    nhl_df[\"team\"] = nhl_df[\"team\"].apply(lambda x: x.replace(\"*\", \"\"))\n",
    "    nhl_df[\"team\"] = nhl_df[\"team\"].apply(lambda x: x.split(\" \")[-1])\n",
    "\n",
    "    # Merge the dataframes\n",
    "    df = pd.merge(cities, nhl_df, left_on=\"NHL\", right_on=\"team\")\n",
    "    df = df[[\"Metropolitan area\", \"Population (2016 est.)[8]\", \"NHL\", \"team\", \"W\", \"L\"]]\n",
    "    df[\"W-L%\"] = df[\"W\"].astype(\"int\") / (df[\"W\"].astype(\"int\") + df[\"L\"].astype(\"int\"))\n",
    "\n",
    "    # Drop duplicated rows\n",
    "    df.loc[df[\"Metropolitan area\"] == \"New York City\", \"W-L%\"] = df.loc[df[\"Metropolitan area\"] == \"New York City\", \"W-L%\"].mean()\n",
    "    df.loc[df[\"Metropolitan area\"] == \"Los Angeles\", \"W-L%\"] = df.loc[df[\"Metropolitan area\"] == \"Los Angeles\", \"W-L%\"].mean()\n",
    "    df = df.drop_duplicates(subset=\"Metropolitan area\").reset_index().drop(columns=\"index\")\n",
    "    \n",
    "    return df\n",
    "\n",
    "def nhl_correlation(): \n",
    "    # YOUR CODE HERE\n",
    "    # raise NotImplementedError()\n",
    "    \n",
    "    df = clean_nhl_df()\n",
    "\n",
    "    population_by_region = df[\"Population (2016 est.)[8]\"].astype(\"int\") # pass in metropolitan area population from cities\n",
    "    win_loss_by_region = df[\"W-L%\"].astype(\"float\") # pass in win/loss ratio from nhl_df in the same order as cities[\"Metropolitan area\"]\n",
    "\n",
    "    assert len(population_by_region) == len(win_loss_by_region), \"Q1: Your lists must be the same length\"\n",
    "    assert len(population_by_region) == 28, \"Q1: There should be 28 teams being analysed for NHL\"\n",
    "    \n",
    "    return stats.pearsonr(population_by_region, win_loss_by_region)[0]"
   ]
  },
  {
   "cell_type": "code",
   "execution_count": 10,
   "metadata": {
    "deletable": false,
    "editable": false,
    "nbgrader": {
     "checksum": "52a581df513c71153e105b93764cda4b",
     "grade": true,
     "grade_id": "cell-ebe0b2dfe1067e63",
     "locked": true,
     "points": 20,
     "schema_version": 1,
     "solution": false
    }
   },
   "outputs": [
    {
     "data": {
      "text/plain": [
       "0.012486162921209909"
      ]
     },
     "execution_count": 10,
     "metadata": {},
     "output_type": "execute_result"
    }
   ],
   "source": [
    "nhl_correlation()"
   ]
  },
  {
   "cell_type": "markdown",
   "metadata": {
    "deletable": false,
    "editable": false,
    "nbgrader": {
     "checksum": "988912cae4968d81473f46d783e79c16",
     "grade": false,
     "grade_id": "cell-cb964e690298b71d",
     "locked": true,
     "schema_version": 1,
     "solution": false
    }
   },
   "source": [
    "## Question 2\n",
    "For this question, calculate the win/loss ratio's correlation with the population of the city it is in for the **NBA** using **2018** data."
   ]
  },
  {
   "cell_type": "code",
   "execution_count": 11,
   "metadata": {
    "deletable": false,
    "nbgrader": {
     "checksum": "9394222aafc8ccab0a228098ba0d6010",
     "grade": false,
     "grade_id": "cell-5a5f21279e3d3572",
     "locked": false,
     "schema_version": 1,
     "solution": true
    }
   },
   "outputs": [],
   "source": [
    "import pandas as pd\n",
    "import numpy as np\n",
    "import scipy.stats as stats\n",
    "import re\n",
    "\n",
    "nba_df = pd.read_csv(\"assets/nba.csv\")\n",
    "cities = pd.read_html(\"assets/wikipedia_data.html\")[1]\n",
    "cities = cities.iloc[:-1, [0, 3, 5, 6, 7, 8]]"
   ]
  },
  {
   "cell_type": "code",
   "execution_count": 12,
   "metadata": {},
   "outputs": [
    {
     "data": {
      "text/html": [
       "<div>\n",
       "<style scoped>\n",
       "    .dataframe tbody tr th:only-of-type {\n",
       "        vertical-align: middle;\n",
       "    }\n",
       "\n",
       "    .dataframe tbody tr th {\n",
       "        vertical-align: top;\n",
       "    }\n",
       "\n",
       "    .dataframe thead th {\n",
       "        text-align: right;\n",
       "    }\n",
       "</style>\n",
       "<table border=\"1\" class=\"dataframe\">\n",
       "  <thead>\n",
       "    <tr style=\"text-align: right;\">\n",
       "      <th></th>\n",
       "      <th>team</th>\n",
       "      <th>W</th>\n",
       "      <th>L</th>\n",
       "      <th>W/L%</th>\n",
       "      <th>GB</th>\n",
       "      <th>PS/G</th>\n",
       "      <th>PA/G</th>\n",
       "      <th>SRS</th>\n",
       "      <th>year</th>\n",
       "      <th>League</th>\n",
       "    </tr>\n",
       "  </thead>\n",
       "  <tbody>\n",
       "    <tr>\n",
       "      <th>0</th>\n",
       "      <td>Toronto Raptors* (1)</td>\n",
       "      <td>59</td>\n",
       "      <td>23</td>\n",
       "      <td>0.72</td>\n",
       "      <td>—</td>\n",
       "      <td>111.7</td>\n",
       "      <td>103.9</td>\n",
       "      <td>7.29</td>\n",
       "      <td>2018</td>\n",
       "      <td>NBA</td>\n",
       "    </tr>\n",
       "    <tr>\n",
       "      <th>1</th>\n",
       "      <td>Boston Celtics* (2)</td>\n",
       "      <td>55</td>\n",
       "      <td>27</td>\n",
       "      <td>0.6709999999999999</td>\n",
       "      <td>4.0</td>\n",
       "      <td>104.0</td>\n",
       "      <td>100.4</td>\n",
       "      <td>3.23</td>\n",
       "      <td>2018</td>\n",
       "      <td>NBA</td>\n",
       "    </tr>\n",
       "    <tr>\n",
       "      <th>2</th>\n",
       "      <td>Philadelphia 76ers* (3)</td>\n",
       "      <td>52</td>\n",
       "      <td>30</td>\n",
       "      <td>0.634</td>\n",
       "      <td>7.0</td>\n",
       "      <td>109.8</td>\n",
       "      <td>105.3</td>\n",
       "      <td>4.3</td>\n",
       "      <td>2018</td>\n",
       "      <td>NBA</td>\n",
       "    </tr>\n",
       "    <tr>\n",
       "      <th>3</th>\n",
       "      <td>Cleveland Cavaliers* (4)</td>\n",
       "      <td>50</td>\n",
       "      <td>32</td>\n",
       "      <td>0.61</td>\n",
       "      <td>9.0</td>\n",
       "      <td>110.9</td>\n",
       "      <td>109.9</td>\n",
       "      <td>0.59</td>\n",
       "      <td>2018</td>\n",
       "      <td>NBA</td>\n",
       "    </tr>\n",
       "    <tr>\n",
       "      <th>4</th>\n",
       "      <td>Indiana Pacers* (5)</td>\n",
       "      <td>48</td>\n",
       "      <td>34</td>\n",
       "      <td>0.585</td>\n",
       "      <td>11.0</td>\n",
       "      <td>105.6</td>\n",
       "      <td>104.2</td>\n",
       "      <td>1.18</td>\n",
       "      <td>2018</td>\n",
       "      <td>NBA</td>\n",
       "    </tr>\n",
       "  </tbody>\n",
       "</table>\n",
       "</div>"
      ],
      "text/plain": [
       "                       team   W   L                W/L%    GB   PS/G   PA/G  \\\n",
       "0      Toronto Raptors* (1)  59  23                0.72     —  111.7  103.9   \n",
       "1       Boston Celtics* (2)  55  27  0.6709999999999999   4.0  104.0  100.4   \n",
       "2   Philadelphia 76ers* (3)  52  30               0.634   7.0  109.8  105.3   \n",
       "3  Cleveland Cavaliers* (4)  50  32                0.61   9.0  110.9  109.9   \n",
       "4       Indiana Pacers* (5)  48  34               0.585  11.0  105.6  104.2   \n",
       "\n",
       "    SRS  year League  \n",
       "0  7.29  2018    NBA  \n",
       "1  3.23  2018    NBA  \n",
       "2   4.3  2018    NBA  \n",
       "3  0.59  2018    NBA  \n",
       "4  1.18  2018    NBA  "
      ]
     },
     "execution_count": 12,
     "metadata": {},
     "output_type": "execute_result"
    }
   ],
   "source": [
    "nba_df.head()"
   ]
  },
  {
   "cell_type": "code",
   "execution_count": 13,
   "metadata": {},
   "outputs": [
    {
     "name": "stdout",
     "output_type": "stream",
     "text": [
      "<class 'pandas.core.frame.DataFrame'>\n",
      "RangeIndex: 162 entries, 0 to 161\n",
      "Data columns (total 10 columns):\n",
      " #   Column  Non-Null Count  Dtype \n",
      "---  ------  --------------  ----- \n",
      " 0   team    162 non-null    object\n",
      " 1   W       162 non-null    object\n",
      " 2   L       162 non-null    object\n",
      " 3   W/L%    162 non-null    object\n",
      " 4   GB      162 non-null    object\n",
      " 5   PS/G    162 non-null    object\n",
      " 6   PA/G    162 non-null    object\n",
      " 7   SRS     162 non-null    object\n",
      " 8   year    162 non-null    int64 \n",
      " 9   League  162 non-null    object\n",
      "dtypes: int64(1), object(9)\n",
      "memory usage: 12.8+ KB\n"
     ]
    }
   ],
   "source": [
    "nba_df.info()"
   ]
  },
  {
   "cell_type": "code",
   "execution_count": 14,
   "metadata": {},
   "outputs": [],
   "source": [
    "def clean_nba_df():\n",
    "    # Load data\n",
    "    nba_df = pd.read_csv(\"assets/nba.csv\")\n",
    "    cities = pd.read_html(\"assets/wikipedia_data.html\")[1]\n",
    "    cities = cities.iloc[:-1, [0, 3, 5, 6, 7, 8]]\n",
    "    \n",
    "    # Cleaning the cities dataframe\n",
    "    cities[\"NBA\"] = cities[\"NBA\"].apply(lambda x: re.sub(r\"\\[.+\\]\", \"\", x))\n",
    "    cities[\"NBA\"] = cities[\"NBA\"].replace({\"KnicksNets\": \"Knicks,Nets\",\n",
    "                                           \"LakersClippers\": \"Lakers,Clippers\",\n",
    "                                           \"Trail Blazers\": \"Trail,Blazers\"})\n",
    "    cities[\"NBA\"] = cities[\"NBA\"].apply(lambda x: x.split(\",\"))\n",
    "    cities = cities.explode(\"NBA\")\n",
    "\n",
    "    # Cleaning the nba_df dataframe\n",
    "    nba_df = nba_df[nba_df[\"year\"] == 2018]\n",
    "    nba_df[\"team\"] = nba_df[\"team\"].apply(lambda x: re.sub(r\"(\\*)*\\s\\(\\d+\\)\", \"\", x))\n",
    "    nba_df[\"team\"] = nba_df[\"team\"].apply(lambda x: x.split(\" \")[-1])\n",
    "\n",
    "    # Merge the dataframes\n",
    "    df = pd.merge(cities, nba_df, left_on=\"NBA\", right_on=\"team\")\n",
    "    df = df.rename(columns={\"W/L%\": \"W-L%\"})\n",
    "    df = df[[\"Metropolitan area\", \"Population (2016 est.)[8]\", \"NBA\", \"team\", \"W\", \"L\", \"W-L%\"]]\n",
    "    df[\"W-L%\"] = df[\"W-L%\"].astype(\"float\")\n",
    "    \n",
    "    # Drop duplicated columns\n",
    "    df.loc[df[\"Metropolitan area\"] == \"New York City\", \"W-L%\"] = df.loc[df[\"Metropolitan area\"] == \"New York City\", \"W-L%\"].mean()\n",
    "    df.loc[df[\"Metropolitan area\"] == \"Los Angeles\", \"W-L%\"] = df.loc[df[\"Metropolitan area\"] == \"Los Angeles\", \"W-L%\"].mean()\n",
    "    df = df.drop_duplicates(subset=\"Metropolitan area\").reset_index().drop(columns=\"index\")\n",
    "    \n",
    "    return df\n",
    "\n",
    "def nba_correlation():\n",
    "    # YOUR CODE HERE\n",
    "    # raise NotImplementedError()\n",
    "    \n",
    "    df = clean_nba_df()\n",
    "\n",
    "    population_by_region = df[\"Population (2016 est.)[8]\"].astype(\"int\") # pass in metropolitan area population from cities\n",
    "    win_loss_by_region = df[\"W-L%\"] # pass in win/loss ratio from nba_df in the same order as cities[\"Metropolitan area\"]\n",
    "\n",
    "    assert len(population_by_region) == len(win_loss_by_region), \"Q2: Your lists must be the same length\"\n",
    "    assert len(population_by_region) == 28, \"Q2: There should be 28 teams being analysed for NBA\"\n",
    "\n",
    "    return stats.pearsonr(population_by_region, win_loss_by_region)[0]"
   ]
  },
  {
   "cell_type": "code",
   "execution_count": 15,
   "metadata": {
    "deletable": false,
    "editable": false,
    "nbgrader": {
     "checksum": "bbdeb8eb22f525a34c10dc8798324e42",
     "grade": true,
     "grade_id": "cell-e573b2b4a282b470",
     "locked": true,
     "points": 20,
     "schema_version": 1,
     "solution": false
    }
   },
   "outputs": [
    {
     "data": {
      "text/plain": [
       "-0.17636350642182935"
      ]
     },
     "execution_count": 15,
     "metadata": {},
     "output_type": "execute_result"
    }
   ],
   "source": [
    "nba_correlation()"
   ]
  },
  {
   "cell_type": "markdown",
   "metadata": {
    "deletable": false,
    "editable": false,
    "nbgrader": {
     "checksum": "1a1a5809f675ca033086422007cd73bd",
     "grade": false,
     "grade_id": "cell-96e15e4335df78f4",
     "locked": true,
     "schema_version": 1,
     "solution": false
    }
   },
   "source": [
    "## Question 3\n",
    "For this question, calculate the win/loss ratio's correlation with the population of the city it is in for the **MLB** using **2018** data."
   ]
  },
  {
   "cell_type": "code",
   "execution_count": 16,
   "metadata": {
    "deletable": false,
    "nbgrader": {
     "checksum": "27e8c0da6c9fa0dffc10488314335b6c",
     "grade": false,
     "grade_id": "cell-33b00fc3f3467b0c",
     "locked": false,
     "schema_version": 1,
     "solution": true
    }
   },
   "outputs": [],
   "source": [
    "import pandas as pd\n",
    "import numpy as np\n",
    "import scipy.stats as stats\n",
    "import re\n",
    "\n",
    "mlb_df = pd.read_csv(\"assets/mlb.csv\")\n",
    "cities = pd.read_html(\"assets/wikipedia_data.html\")[1]\n",
    "cities = cities.iloc[:-1, [0, 3, 5, 6, 7, 8]]"
   ]
  },
  {
   "cell_type": "code",
   "execution_count": 17,
   "metadata": {},
   "outputs": [
    {
     "data": {
      "text/html": [
       "<div>\n",
       "<style scoped>\n",
       "    .dataframe tbody tr th:only-of-type {\n",
       "        vertical-align: middle;\n",
       "    }\n",
       "\n",
       "    .dataframe tbody tr th {\n",
       "        vertical-align: top;\n",
       "    }\n",
       "\n",
       "    .dataframe thead th {\n",
       "        text-align: right;\n",
       "    }\n",
       "</style>\n",
       "<table border=\"1\" class=\"dataframe\">\n",
       "  <thead>\n",
       "    <tr style=\"text-align: right;\">\n",
       "      <th></th>\n",
       "      <th>team</th>\n",
       "      <th>W</th>\n",
       "      <th>L</th>\n",
       "      <th>W-L%</th>\n",
       "      <th>GB</th>\n",
       "      <th>year</th>\n",
       "      <th>League</th>\n",
       "    </tr>\n",
       "  </thead>\n",
       "  <tbody>\n",
       "    <tr>\n",
       "      <th>0</th>\n",
       "      <td>Boston Red Sox</td>\n",
       "      <td>108</td>\n",
       "      <td>54</td>\n",
       "      <td>0.667</td>\n",
       "      <td>--</td>\n",
       "      <td>2018</td>\n",
       "      <td>MLB</td>\n",
       "    </tr>\n",
       "    <tr>\n",
       "      <th>1</th>\n",
       "      <td>New York Yankees</td>\n",
       "      <td>100</td>\n",
       "      <td>62</td>\n",
       "      <td>0.617</td>\n",
       "      <td>8.0</td>\n",
       "      <td>2018</td>\n",
       "      <td>MLB</td>\n",
       "    </tr>\n",
       "    <tr>\n",
       "      <th>2</th>\n",
       "      <td>Tampa Bay Rays</td>\n",
       "      <td>90</td>\n",
       "      <td>72</td>\n",
       "      <td>0.556</td>\n",
       "      <td>18.0</td>\n",
       "      <td>2018</td>\n",
       "      <td>MLB</td>\n",
       "    </tr>\n",
       "    <tr>\n",
       "      <th>3</th>\n",
       "      <td>Toronto Blue Jays</td>\n",
       "      <td>73</td>\n",
       "      <td>89</td>\n",
       "      <td>0.451</td>\n",
       "      <td>35.0</td>\n",
       "      <td>2018</td>\n",
       "      <td>MLB</td>\n",
       "    </tr>\n",
       "    <tr>\n",
       "      <th>4</th>\n",
       "      <td>Baltimore Orioles</td>\n",
       "      <td>47</td>\n",
       "      <td>115</td>\n",
       "      <td>0.290</td>\n",
       "      <td>61.0</td>\n",
       "      <td>2018</td>\n",
       "      <td>MLB</td>\n",
       "    </tr>\n",
       "  </tbody>\n",
       "</table>\n",
       "</div>"
      ],
      "text/plain": [
       "                team    W    L   W-L%    GB  year League\n",
       "0     Boston Red Sox  108   54  0.667    --  2018    MLB\n",
       "1   New York Yankees  100   62  0.617   8.0  2018    MLB\n",
       "2     Tampa Bay Rays   90   72  0.556  18.0  2018    MLB\n",
       "3  Toronto Blue Jays   73   89  0.451  35.0  2018    MLB\n",
       "4  Baltimore Orioles   47  115  0.290  61.0  2018    MLB"
      ]
     },
     "execution_count": 17,
     "metadata": {},
     "output_type": "execute_result"
    }
   ],
   "source": [
    "mlb_df.head()"
   ]
  },
  {
   "cell_type": "code",
   "execution_count": 18,
   "metadata": {},
   "outputs": [
    {
     "name": "stdout",
     "output_type": "stream",
     "text": [
      "<class 'pandas.core.frame.DataFrame'>\n",
      "RangeIndex: 150 entries, 0 to 149\n",
      "Data columns (total 7 columns):\n",
      " #   Column  Non-Null Count  Dtype  \n",
      "---  ------  --------------  -----  \n",
      " 0   team    150 non-null    object \n",
      " 1   W       150 non-null    int64  \n",
      " 2   L       150 non-null    int64  \n",
      " 3   W-L%    150 non-null    float64\n",
      " 4   GB      150 non-null    object \n",
      " 5   year    150 non-null    int64  \n",
      " 6   League  150 non-null    object \n",
      "dtypes: float64(1), int64(3), object(3)\n",
      "memory usage: 8.3+ KB\n"
     ]
    }
   ],
   "source": [
    "mlb_df.info()"
   ]
  },
  {
   "cell_type": "code",
   "execution_count": 19,
   "metadata": {},
   "outputs": [],
   "source": [
    "def clean_mlb_df():\n",
    "    # Load data\n",
    "    mlb_df = pd.read_csv(\"assets/mlb.csv\")\n",
    "    cities = pd.read_html(\"assets/wikipedia_data.html\")[1]\n",
    "    cities = cities.iloc[:-1,[0,3,5,6,7,8]]\n",
    "\n",
    "    # Cleaning the cities dataframe\n",
    "    cities[\"MLB\"] = cities[\"MLB\"].apply(lambda x: re.sub(r\"\\[.+\\]\", \"\", x))\n",
    "    cities[\"MLB\"] = cities[\"MLB\"].replace({\"Blue Jays\": \"Blue,Jays\", \n",
    "                                           \"CubsWhite Sox\": \"Cubs,WhiteSox\", \n",
    "                                           \"DodgersAngels\": \"Dodgers,Angels\", \n",
    "                                           \"GiantsAthletics\": \"Giants,Athletics\", \n",
    "                                           \"YankeesMets\": \"Yankees,Mets\",\n",
    "                                           \"Red Sox\": \"RedSox\"})\n",
    "    cities[\"MLB\"] = cities[\"MLB\"].apply(lambda x: x.split(\",\"))\n",
    "    cities = cities.explode(\"MLB\")\n",
    "\n",
    "    # Cleaning the mlb_df dataframe\n",
    "    mlb_df = mlb_df[mlb_df[\"year\"] == 2018]\n",
    "    mlb_df[\"team\"] = mlb_df[\"team\"].replace({\"Boston Red Sox\": \"Boston RedSox\",\n",
    "                                             \"Chicago White Sox\": \"Chicago WhiteSox\"})\n",
    "    mlb_df[\"team\"] = mlb_df[\"team\"].apply(lambda x: x.split(\" \")[-1])\n",
    "\n",
    "    # Merge the dataframes\n",
    "    df = pd.merge(cities, mlb_df, left_on=\"MLB\", right_on=\"team\")\n",
    "    df = df[[\"Metropolitan area\", \"Population (2016 est.)[8]\", \"MLB\", \"team\", \"W\", \"L\", \"W-L%\"]]\n",
    "    df[\"W-L%\"] = df[\"W-L%\"].astype(\"float\")\n",
    "\n",
    "    # Drop duplicated columns\n",
    "    df.loc[df[\"Metropolitan area\"] == \"New York City\", \"W-L%\"] = df.loc[df[\"Metropolitan area\"] == \"New York City\", \"W-L%\"].mean()\n",
    "    df.loc[df[\"Metropolitan area\"] == \"Los Angeles\", \"W-L%\"] = df.loc[df[\"Metropolitan area\"] == \"Los Angeles\", \"W-L%\"].mean()\n",
    "    df.loc[df[\"Metropolitan area\"] == \"San Francisco Bay Area\", \"W-L%\"] = df.loc[df[\"Metropolitan area\"] == \"San Francisco Bay Area\", \"W-L%\"].mean()\n",
    "    df.loc[df[\"Metropolitan area\"] == \"Chicago\", \"W-L%\"] = df.loc[df[\"Metropolitan area\"] == \"Chicago\", \"W-L%\"].mean()\n",
    "    df = df.drop_duplicates(subset=\"Metropolitan area\").reset_index().drop(columns=\"index\")\n",
    "    \n",
    "    return df\n",
    "\n",
    "def mlb_correlation(): \n",
    "    # YOUR CODE HERE\n",
    "    # raise NotImplementedError()\n",
    "    \n",
    "    df = clean_mlb_df()\n",
    "\n",
    "    population_by_region = df[\"Population (2016 est.)[8]\"].astype(\"int\") # pass in metropolitan area population from cities\n",
    "    win_loss_by_region = df[\"W-L%\"] # pass in win/loss ratio from mlb_df in the same order as cities[\"Metropolitan area\"]\n",
    "\n",
    "    assert len(population_by_region) == len(win_loss_by_region), \"Q3: Your lists must be the same length\"\n",
    "    assert len(population_by_region) == 26, \"Q3: There should be 26 teams being analysed for MLB\"\n",
    "\n",
    "    return stats.pearsonr(population_by_region, win_loss_by_region)[0]"
   ]
  },
  {
   "cell_type": "code",
   "execution_count": 20,
   "metadata": {
    "deletable": false,
    "editable": false,
    "nbgrader": {
     "checksum": "cda33b094ba19ccc37a481e0dd29e0bc",
     "grade": true,
     "grade_id": "cell-764d4476f425c5a2",
     "locked": true,
     "points": 20,
     "schema_version": 1,
     "solution": false
    }
   },
   "outputs": [
    {
     "data": {
      "text/plain": [
       "0.15003737475409493"
      ]
     },
     "execution_count": 20,
     "metadata": {},
     "output_type": "execute_result"
    }
   ],
   "source": [
    "mlb_correlation()"
   ]
  },
  {
   "cell_type": "markdown",
   "metadata": {
    "deletable": false,
    "editable": false,
    "nbgrader": {
     "checksum": "6977a6da9ed6d8b7a0b7e37bbeda709b",
     "grade": false,
     "grade_id": "cell-793df6c04dfb126e",
     "locked": true,
     "schema_version": 1,
     "solution": false
    }
   },
   "source": [
    "## Question 4\n",
    "For this question, calculate the win/loss ratio's correlation with the population of the city it is in for the **NFL** using **2018** data."
   ]
  },
  {
   "cell_type": "code",
   "execution_count": 21,
   "metadata": {
    "deletable": false,
    "nbgrader": {
     "checksum": "c4914ad1e119278ec2bd567c52640b66",
     "grade": false,
     "grade_id": "cell-8ccebc209aeec8d9",
     "locked": false,
     "schema_version": 1,
     "solution": true
    }
   },
   "outputs": [],
   "source": [
    "import pandas as pd\n",
    "import numpy as np\n",
    "import scipy.stats as stats\n",
    "import re\n",
    "\n",
    "nfl_df = pd.read_csv(\"assets/nfl.csv\")\n",
    "cities = pd.read_html(\"assets/wikipedia_data.html\")[1]\n",
    "cities = cities.iloc[:-1, [0, 3, 5, 6, 7, 8]]"
   ]
  },
  {
   "cell_type": "code",
   "execution_count": 22,
   "metadata": {},
   "outputs": [
    {
     "data": {
      "text/html": [
       "<div>\n",
       "<style scoped>\n",
       "    .dataframe tbody tr th:only-of-type {\n",
       "        vertical-align: middle;\n",
       "    }\n",
       "\n",
       "    .dataframe tbody tr th {\n",
       "        vertical-align: top;\n",
       "    }\n",
       "\n",
       "    .dataframe thead th {\n",
       "        text-align: right;\n",
       "    }\n",
       "</style>\n",
       "<table border=\"1\" class=\"dataframe\">\n",
       "  <thead>\n",
       "    <tr style=\"text-align: right;\">\n",
       "      <th></th>\n",
       "      <th>DSRS</th>\n",
       "      <th>L</th>\n",
       "      <th>League</th>\n",
       "      <th>MoV</th>\n",
       "      <th>OSRS</th>\n",
       "      <th>PA</th>\n",
       "      <th>PD</th>\n",
       "      <th>PF</th>\n",
       "      <th>SRS</th>\n",
       "      <th>SoS</th>\n",
       "      <th>T</th>\n",
       "      <th>W</th>\n",
       "      <th>W-L%</th>\n",
       "      <th>team</th>\n",
       "      <th>year</th>\n",
       "    </tr>\n",
       "  </thead>\n",
       "  <tbody>\n",
       "    <tr>\n",
       "      <th>0</th>\n",
       "      <td>AFC East</td>\n",
       "      <td>AFC East</td>\n",
       "      <td>NFL</td>\n",
       "      <td>AFC East</td>\n",
       "      <td>AFC East</td>\n",
       "      <td>AFC East</td>\n",
       "      <td>AFC East</td>\n",
       "      <td>AFC East</td>\n",
       "      <td>AFC East</td>\n",
       "      <td>AFC East</td>\n",
       "      <td>AFC East</td>\n",
       "      <td>AFC East</td>\n",
       "      <td>AFC East</td>\n",
       "      <td>AFC East</td>\n",
       "      <td>2018</td>\n",
       "    </tr>\n",
       "    <tr>\n",
       "      <th>1</th>\n",
       "      <td>2.1</td>\n",
       "      <td>5</td>\n",
       "      <td>NFL</td>\n",
       "      <td>6.9</td>\n",
       "      <td>3.1</td>\n",
       "      <td>325</td>\n",
       "      <td>111</td>\n",
       "      <td>436</td>\n",
       "      <td>5.2</td>\n",
       "      <td>-1.8</td>\n",
       "      <td>0</td>\n",
       "      <td>11</td>\n",
       "      <td>.688</td>\n",
       "      <td>New England Patriots*</td>\n",
       "      <td>2018</td>\n",
       "    </tr>\n",
       "    <tr>\n",
       "      <th>2</th>\n",
       "      <td>-5.2</td>\n",
       "      <td>9</td>\n",
       "      <td>NFL</td>\n",
       "      <td>-7.1</td>\n",
       "      <td>-3.6</td>\n",
       "      <td>433</td>\n",
       "      <td>-114</td>\n",
       "      <td>319</td>\n",
       "      <td>-8.8</td>\n",
       "      <td>-1.7</td>\n",
       "      <td>0</td>\n",
       "      <td>7</td>\n",
       "      <td>.438</td>\n",
       "      <td>Miami Dolphins</td>\n",
       "      <td>2018</td>\n",
       "    </tr>\n",
       "    <tr>\n",
       "      <th>3</th>\n",
       "      <td>-0.6</td>\n",
       "      <td>10</td>\n",
       "      <td>NFL</td>\n",
       "      <td>-6.6</td>\n",
       "      <td>-6.3</td>\n",
       "      <td>374</td>\n",
       "      <td>-105</td>\n",
       "      <td>269</td>\n",
       "      <td>-6.9</td>\n",
       "      <td>-0.3</td>\n",
       "      <td>0</td>\n",
       "      <td>6</td>\n",
       "      <td>.375</td>\n",
       "      <td>Buffalo Bills</td>\n",
       "      <td>2018</td>\n",
       "    </tr>\n",
       "    <tr>\n",
       "      <th>4</th>\n",
       "      <td>-5.9</td>\n",
       "      <td>12</td>\n",
       "      <td>NFL</td>\n",
       "      <td>-6.8</td>\n",
       "      <td>-2.0</td>\n",
       "      <td>441</td>\n",
       "      <td>-108</td>\n",
       "      <td>333</td>\n",
       "      <td>-7.8</td>\n",
       "      <td>-1.1</td>\n",
       "      <td>0</td>\n",
       "      <td>4</td>\n",
       "      <td>.250</td>\n",
       "      <td>New York Jets</td>\n",
       "      <td>2018</td>\n",
       "    </tr>\n",
       "  </tbody>\n",
       "</table>\n",
       "</div>"
      ],
      "text/plain": [
       "       DSRS         L League       MoV      OSRS        PA        PD  \\\n",
       "0  AFC East  AFC East    NFL  AFC East  AFC East  AFC East  AFC East   \n",
       "1       2.1         5    NFL       6.9       3.1       325       111   \n",
       "2      -5.2         9    NFL      -7.1      -3.6       433      -114   \n",
       "3      -0.6        10    NFL      -6.6      -6.3       374      -105   \n",
       "4      -5.9        12    NFL      -6.8      -2.0       441      -108   \n",
       "\n",
       "         PF       SRS       SoS         T         W      W-L%  \\\n",
       "0  AFC East  AFC East  AFC East  AFC East  AFC East  AFC East   \n",
       "1       436       5.2      -1.8         0        11      .688   \n",
       "2       319      -8.8      -1.7         0         7      .438   \n",
       "3       269      -6.9      -0.3         0         6      .375   \n",
       "4       333      -7.8      -1.1         0         4      .250   \n",
       "\n",
       "                    team  year  \n",
       "0               AFC East  2018  \n",
       "1  New England Patriots*  2018  \n",
       "2         Miami Dolphins  2018  \n",
       "3          Buffalo Bills  2018  \n",
       "4          New York Jets  2018  "
      ]
     },
     "execution_count": 22,
     "metadata": {},
     "output_type": "execute_result"
    }
   ],
   "source": [
    "nfl_df.head()"
   ]
  },
  {
   "cell_type": "code",
   "execution_count": 23,
   "metadata": {},
   "outputs": [
    {
     "name": "stdout",
     "output_type": "stream",
     "text": [
      "<class 'pandas.core.frame.DataFrame'>\n",
      "RangeIndex: 200 entries, 0 to 199\n",
      "Data columns (total 15 columns):\n",
      " #   Column  Non-Null Count  Dtype \n",
      "---  ------  --------------  ----- \n",
      " 0   DSRS    200 non-null    object\n",
      " 1   L       200 non-null    object\n",
      " 2   League  200 non-null    object\n",
      " 3   MoV     200 non-null    object\n",
      " 4   OSRS    200 non-null    object\n",
      " 5   PA      200 non-null    object\n",
      " 6   PD      200 non-null    object\n",
      " 7   PF      200 non-null    object\n",
      " 8   SRS     200 non-null    object\n",
      " 9   SoS     200 non-null    object\n",
      " 10  T       120 non-null    object\n",
      " 11  W       200 non-null    object\n",
      " 12  W-L%    200 non-null    object\n",
      " 13  team    200 non-null    object\n",
      " 14  year    200 non-null    int64 \n",
      "dtypes: int64(1), object(14)\n",
      "memory usage: 23.6+ KB\n"
     ]
    }
   ],
   "source": [
    "nfl_df.info()"
   ]
  },
  {
   "cell_type": "code",
   "execution_count": 25,
   "metadata": {},
   "outputs": [],
   "source": [
    "def clean_nfl_df():\n",
    "    # Load data\n",
    "    nfl_df = pd.read_csv(\"assets/nfl.csv\")\n",
    "    cities = pd.read_html(\"assets/wikipedia_data.html\")[1]\n",
    "    cities = cities.iloc[:-1, [0, 3, 5, 6, 7, 8]]\n",
    "\n",
    "    # Cleaning the cities dataframe\n",
    "    cities[\"NFL\"] = cities[\"NFL\"].apply(lambda x: re.sub(r\"\\[.+\\]\", \"\", x))\n",
    "    cities[\"NFL\"] = cities[\"NFL\"].replace({\"GiantsJets\": \"Giants,Jets\",\n",
    "                                           \"RamsChargers\": \"Rams,Chargers\",\n",
    "                                           \"49ersRaiders\": \"49ers,Raiders\"})\n",
    "    cities[\"NFL\"] = cities[\"NFL\"].apply(lambda x: x.split(\",\"))\n",
    "    cities = cities.explode(\"NFL\")\n",
    "\n",
    "    # Cleaning the nfl_df dataframe\n",
    "    nfl_df = nfl_df[nfl_df[\"year\"] == 2018]\n",
    "    nfl_df[\"team\"] = nfl_df[\"team\"].apply(lambda x: re.sub(r\"(\\*|\\+)\", \"\", x))\n",
    "    nfl_df[\"team\"] = nfl_df[\"team\"].apply(lambda x: x.split(\" \")[-1])\n",
    "\n",
    "    # Merge the dataframes\n",
    "    df = pd.merge(cities, nfl_df, left_on=\"NFL\", right_on=\"team\")\n",
    "    df = df[[\"Metropolitan area\", \"Population (2016 est.)[8]\", \"NFL\", \"team\", \"W\", \"L\", \"W-L%\"]]\n",
    "    df[\"W-L%\"] = df[\"W-L%\"].astype(\"float\")\n",
    "\n",
    "    # drop duplicated columns\n",
    "    df.loc[df[\"Metropolitan area\"] == \"New York City\", \"W-L%\"] = df.loc[df[\"Metropolitan area\"] == \"New York City\", \"W-L%\"].mean()\n",
    "    df.loc[df[\"Metropolitan area\"] == \"Los Angeles\", \"W-L%\"] = df.loc[df[\"Metropolitan area\"] == \"Los Angeles\", \"W-L%\"].mean()\n",
    "    df.loc[df[\"Metropolitan area\"] == \"San Francisco Bay Area\", \"W-L%\"] = df.loc[df[\"Metropolitan area\"] == \"San Francisco Bay Area\", \"W-L%\"].mean()\n",
    "    df = df.drop_duplicates(subset=\"Metropolitan area\").reset_index().drop(columns=\"index\")\n",
    "    \n",
    "    return df\n",
    "\n",
    "def nfl_correlation(): \n",
    "    # YOUR CODE HERE\n",
    "    # raise NotImplementedError()\n",
    "    \n",
    "    df = clean_nfl_df()\n",
    "\n",
    "    population_by_region = df[\"Population (2016 est.)[8]\"].astype(\"int\") # pass in metropolitan area population from cities\n",
    "    win_loss_by_region = df[\"W-L%\"] # pass in win/loss ratio from nfl_df in the same order as cities[\"Metropolitan area\"]\n",
    "\n",
    "    assert len(population_by_region) == len(win_loss_by_region), \"Q4: Your lists must be the same length\"\n",
    "    assert len(population_by_region) == 29, \"Q4: There should be 29 teams being analysed for NFL\"\n",
    "\n",
    "    return stats.pearsonr(population_by_region, win_loss_by_region)[0]"
   ]
  },
  {
   "cell_type": "code",
   "execution_count": 26,
   "metadata": {
    "deletable": false,
    "editable": false,
    "nbgrader": {
     "checksum": "e9415d6399aa49e3a1a60813afdefa3b",
     "grade": true,
     "grade_id": "cell-de7b148b9554dbda",
     "locked": true,
     "points": 20,
     "schema_version": 1,
     "solution": false
    }
   },
   "outputs": [
    {
     "data": {
      "text/plain": [
       "0.004282141436393008"
      ]
     },
     "execution_count": 26,
     "metadata": {},
     "output_type": "execute_result"
    }
   ],
   "source": [
    "nfl_correlation()"
   ]
  },
  {
   "cell_type": "markdown",
   "metadata": {
    "deletable": false,
    "editable": false,
    "nbgrader": {
     "checksum": "b02d5cd3273f561e4ae939bb2a41740c",
     "grade": false,
     "grade_id": "cell-97b49d8639e908c4",
     "locked": true,
     "schema_version": 1,
     "solution": false
    }
   },
   "source": [
    "## Question 5\n",
    "In this question I would like you to explore the hypothesis that **given that an area has two sports teams in different sports, those teams will perform the same within their respective sports**. How I would like to see this explored is with a series of paired t-tests (so use [`ttest_rel`](https://docs.scipy.org/doc/scipy/reference/generated/scipy.stats.ttest_rel.html)) between all pairs of sports. Are there any sports where we can reject the null hypothesis? Again, average values where a sport has multiple teams in one region. Remember, you will only be including, for each sport, cities which have teams engaged in that sport, drop others as appropriate. This question is worth 20% of the grade for this assignment."
   ]
  },
  {
   "cell_type": "code",
   "execution_count": 27,
   "metadata": {
    "deletable": false,
    "nbgrader": {
     "checksum": "92b8bedc9c49fca1ef724ab5ce526db5",
     "grade": false,
     "grade_id": "cell-92f25f44b8d1179f",
     "locked": false,
     "schema_version": 1,
     "solution": true
    }
   },
   "outputs": [],
   "source": [
    "import pandas as pd\n",
    "import numpy as np\n",
    "import scipy.stats as stats\n",
    "import re\n",
    "\n",
    "# mlb_df = pd.read_csv(\"assets/mlb.csv\")\n",
    "# nhl_df = pd.read_csv(\"assets/nhl.csv\")\n",
    "# nba_df = pd.read_csv(\"assets/nba.csv\")\n",
    "# nfl_df = pd.read_csv(\"assets/nfl.csv\")\n",
    "# cities = pd.read_html(\"assets/wikipedia_data.html\")[1]\n",
    "# cities = cities.iloc[:-1,[0,3,5,6,7,8]]\n",
    "\n",
    "def clean_dfs():\n",
    "    nfl_df = clean_nfl_df()\n",
    "    nba_df = clean_nba_df()\n",
    "    nhl_df = clean_nhl_df()   \n",
    "    mlb_df = clean_mlb_df()\n",
    "    \n",
    "    nfl_df = nfl_df[[\"Metropolitan area\", \"W-L%\"]]\n",
    "    nba_df = nba_df[[\"Metropolitan area\", \"W-L%\"]]\n",
    "    nhl_df = nhl_df[[\"Metropolitan area\", \"W-L%\"]]  \n",
    "    mlb_df = mlb_df[[\"Metropolitan area\", \"W-L%\"]]\n",
    "    \n",
    "    return nfl_df, nba_df, nhl_df, mlb_df\n",
    "\n",
    "def calculate_p_values(leagues):\n",
    "    p_values = pd.DataFrame(columns=leagues.keys(), index=leagues.keys())\n",
    "    for (league_name1, league_df1) in leagues.items():\n",
    "        for (league_name2, league_df2) in leagues.items():\n",
    "            merged_league = pd.merge(league_df1, league_df2, on=\"Metropolitan area\")\n",
    "            p_values.loc[league_name1, league_name2] = stats.ttest_rel(merged_league[\"W-L%_x\"], merged_league[\"W-L%_y\"])[1]\n",
    "            \n",
    "    return p_values\n",
    "\n",
    "def sports_team_performance():\n",
    "    # YOUR CODE HERE\n",
    "    # raise NotImplementedError()\n",
    "    \n",
    "    # Note: p_values is a full dataframe, so df.loc[\"NFL\",\"NBA\"] should be the same as df.loc[\"NBA\",\"NFL\"] and\n",
    "    # df.loc[\"NFL\",\"NFL\"] should return np.nan\n",
    "    # sports = ['NFL', 'NBA', 'NHL', 'MLB']\n",
    "    # p_values = pd.DataFrame({k:np.nan for k in sports}, index=sports)\n",
    "\n",
    "    nfl_df, nba_df, nhl_df, mlb_df = clean_dfs()\n",
    "    leagues = {\"NFL\": nfl_df, \"NBA\": nba_df, \"NHL\": nhl_df, \"MLB\": mlb_df}\n",
    "    p_values = calculate_p_values(leagues)   \n",
    "    \n",
    "    assert abs(p_values.loc[\"NBA\", \"NHL\"] - 0.02) <= 1e-2, \"The NBA-NFL p-value should be around 0.02\"\n",
    "    assert abs(p_values.loc[\"MLB\", \"NFL\"] - 0.80) <= 1e-2, \"The MLB-NFL p-value should be around 0.80\"\n",
    "    \n",
    "    return p_values"
   ]
  },
  {
   "cell_type": "code",
   "execution_count": 28,
   "metadata": {
    "deletable": false,
    "editable": false,
    "nbgrader": {
     "checksum": "2a596ab421a45cc01168d10e8fbb8f89",
     "grade": true,
     "grade_id": "cell-fb4b9cb5ff4570a6",
     "locked": true,
     "points": 20,
     "schema_version": 1,
     "solution": false
    }
   },
   "outputs": [
    {
     "data": {
      "text/html": [
       "<div>\n",
       "<style scoped>\n",
       "    .dataframe tbody tr th:only-of-type {\n",
       "        vertical-align: middle;\n",
       "    }\n",
       "\n",
       "    .dataframe tbody tr th {\n",
       "        vertical-align: top;\n",
       "    }\n",
       "\n",
       "    .dataframe thead th {\n",
       "        text-align: right;\n",
       "    }\n",
       "</style>\n",
       "<table border=\"1\" class=\"dataframe\">\n",
       "  <thead>\n",
       "    <tr style=\"text-align: right;\">\n",
       "      <th></th>\n",
       "      <th>NFL</th>\n",
       "      <th>NBA</th>\n",
       "      <th>NHL</th>\n",
       "      <th>MLB</th>\n",
       "    </tr>\n",
       "  </thead>\n",
       "  <tbody>\n",
       "    <tr>\n",
       "      <th>NFL</th>\n",
       "      <td>NaN</td>\n",
       "      <td>0.937509</td>\n",
       "      <td>0.030318</td>\n",
       "      <td>0.803459</td>\n",
       "    </tr>\n",
       "    <tr>\n",
       "      <th>NBA</th>\n",
       "      <td>0.937509</td>\n",
       "      <td>NaN</td>\n",
       "      <td>0.022386</td>\n",
       "      <td>0.949566</td>\n",
       "    </tr>\n",
       "    <tr>\n",
       "      <th>NHL</th>\n",
       "      <td>0.030318</td>\n",
       "      <td>0.022386</td>\n",
       "      <td>NaN</td>\n",
       "      <td>0.000703</td>\n",
       "    </tr>\n",
       "    <tr>\n",
       "      <th>MLB</th>\n",
       "      <td>0.803459</td>\n",
       "      <td>0.949566</td>\n",
       "      <td>0.000703</td>\n",
       "      <td>NaN</td>\n",
       "    </tr>\n",
       "  </tbody>\n",
       "</table>\n",
       "</div>"
      ],
      "text/plain": [
       "          NFL       NBA       NHL       MLB\n",
       "NFL       NaN  0.937509  0.030318  0.803459\n",
       "NBA  0.937509       NaN  0.022386  0.949566\n",
       "NHL  0.030318  0.022386       NaN  0.000703\n",
       "MLB  0.803459  0.949566  0.000703       NaN"
      ]
     },
     "execution_count": 28,
     "metadata": {},
     "output_type": "execute_result"
    }
   ],
   "source": [
    "sports_team_performance()"
   ]
  }
 ],
 "metadata": {
  "coursera": {
   "schema_names": [
    "mooc_adswpy_1_v2_assignment4"
   ]
  },
  "kernelspec": {
   "display_name": "Python 3.9.12 ('base')",
   "language": "python",
   "name": "python3"
  },
  "language_info": {
   "codemirror_mode": {
    "name": "ipython",
    "version": 3
   },
   "file_extension": ".py",
   "mimetype": "text/x-python",
   "name": "python",
   "nbconvert_exporter": "python",
   "pygments_lexer": "ipython3",
   "version": "3.9.12"
  },
  "vscode": {
   "interpreter": {
    "hash": "3cfd106f785ae1e288da74ae733f9b47f8a2699db986927140be0bc196406f4c"
   }
  }
 },
 "nbformat": 4,
 "nbformat_minor": 1
}
